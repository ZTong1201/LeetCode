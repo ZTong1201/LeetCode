{
 "cells": [
  {
   "cell_type": "markdown",
   "metadata": {},
   "source": [
    "### 258. Add Digits\n",
    "Given a non-negative integer num, repeatedly add all its digits until the result has only one digit.\n",
    "<br>\n",
    "e.g.\n",
    "<br>\n",
    "Input: 38\n",
    "<br>\n",
    "Output: 2 \n",
    "<br>\n",
    "Explanation: The process is like: 3 + 8 = 11, 1 + 1 = 2. \n",
    "<br>\n",
    "Since 2 has only one digit, return it."
   ]
  },
  {
   "cell_type": "markdown",
   "metadata": {},
   "source": [
    "Brute force"
   ]
  },
  {
   "cell_type": "code",
   "execution_count": 5,
   "metadata": {},
   "outputs": [],
   "source": [
    "def addDigits(num: int) -> int:\n",
    "    while num >= 10:\n",
    "        tmp = 0\n",
    "        while num != 0:\n",
    "            tmp += num%10\n",
    "            num = num//10\n",
    "        num = tmp\n",
    "    return num"
   ]
  },
  {
   "cell_type": "markdown",
   "metadata": {},
   "source": [
    "Follow up:\n",
    "<br>\n",
    "Could you do it without any loop/recursion in O(1) runtime?\n",
    "<br>\n",
    "Every number whose digits sum to a multiple of 9 is divisible by 9.\n",
    "<br>\n",
    "Otherwise, the iterative sum of digits leads to the remainder when divided by nine.\n",
    "<br>\n",
    "We account for the case when the number is divisible by 9 or is 0."
   ]
  },
  {
   "cell_type": "code",
   "execution_count": 10,
   "metadata": {},
   "outputs": [],
   "source": [
    "def addDigits2(num: int) -> int:\n",
    "    return num%9 if num%9 else 9 if num else 0"
   ]
  },
  {
   "cell_type": "code",
   "execution_count": 11,
   "metadata": {},
   "outputs": [],
   "source": [
    "def main():\n",
    "    print(addDigits(38))\n",
    "    print(addDigits(138))\n",
    "    print(addDigits(10))\n",
    "    print(addDigits2(38))\n",
    "    print(addDigits2(138))\n",
    "    print(addDigits2(10))"
   ]
  },
  {
   "cell_type": "code",
   "execution_count": 12,
   "metadata": {},
   "outputs": [
    {
     "name": "stdout",
     "output_type": "stream",
     "text": [
      "2\n",
      "3\n",
      "1\n",
      "2\n",
      "3\n",
      "1\n"
     ]
    }
   ],
   "source": [
    "if __name__ == \"__main__\":\n",
    "    main()"
   ]
  },
  {
   "cell_type": "code",
   "execution_count": null,
   "metadata": {},
   "outputs": [],
   "source": []
  }
 ],
 "metadata": {
  "kernelspec": {
   "display_name": "Python 3",
   "language": "python",
   "name": "python3"
  },
  "language_info": {
   "codemirror_mode": {
    "name": "ipython",
    "version": 3
   },
   "file_extension": ".py",
   "mimetype": "text/x-python",
   "name": "python",
   "nbconvert_exporter": "python",
   "pygments_lexer": "ipython3",
   "version": "3.6.7"
  },
  "latex_envs": {
   "LaTeX_envs_menu_present": true,
   "autoclose": false,
   "autocomplete": true,
   "bibliofile": "biblio.bib",
   "cite_by": "apalike",
   "current_citInitial": 1,
   "eqLabelWithNumbers": true,
   "eqNumInitial": 1,
   "hotkeys": {
    "equation": "Ctrl-E",
    "itemize": "Ctrl-I"
   },
   "labels_anchors": false,
   "latex_user_defs": false,
   "report_style_numbering": false,
   "user_envs_cfg": false
  }
 },
 "nbformat": 4,
 "nbformat_minor": 2
}
