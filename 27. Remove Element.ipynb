{
 "cells": [
  {
   "cell_type": "markdown",
   "metadata": {},
   "source": [
    "### 27. Remove Element\n",
    "Given an array nums and a value val, remove all instances of that value in-place and return the new length.\n",
    "\n",
    "Do not allocate extra space for another array, you must do this by modifying the input array in-place with O(1) extra memory.\n",
    "\n",
    "The order of elements can be changed. It doesn't matter what you leave beyond the new length."
   ]
  },
  {
   "cell_type": "markdown",
   "metadata": {},
   "source": [
    "Two pointers\n",
    "<br>\n",
    "Time: O(n), Space: O(1)"
   ]
  },
  {
   "cell_type": "code",
   "execution_count": 12,
   "metadata": {},
   "outputs": [],
   "source": [
    "def removeElement(nums, val):\n",
    "    i = 0\n",
    "    j = len(nums)-1\n",
    "    while i<=j:\n",
    "        if nums[i] == val:\n",
    "            if nums[j] != val:\n",
    "                nums[i], nums[j] = nums[j], nums[i]\n",
    "            else:\n",
    "                j -= 1\n",
    "        else:\n",
    "            i += 1\n",
    "    return i"
   ]
  },
  {
   "cell_type": "code",
   "execution_count": 15,
   "metadata": {},
   "outputs": [],
   "source": [
    "def removeElement2(nums, val):\n",
    "    i = 0\n",
    "    for j in range(len(nums)):\n",
    "        if nums[j] != val:\n",
    "            nums[i] = nums[j]\n",
    "            i += 1\n",
    "    return i"
   ]
  },
  {
   "cell_type": "code",
   "execution_count": 13,
   "metadata": {},
   "outputs": [],
   "source": [
    "def main():\n",
    "    nums1 = [3,2,2,3]\n",
    "    nums2 = [0,1,2,2,3,0,4,2]\n",
    "    nums3 = []\n",
    "    nums4 = [2]\n",
    "    length1 = removeElement(nums1,3)\n",
    "    print(nums1[:length1])\n",
    "    length2 = removeElement(nums2,2)\n",
    "    print(nums2[:length2])\n",
    "    length3 = removeElement(nums3,0)\n",
    "    print(nums3[:length3])\n",
    "    length4 = removeElement(nums4,3)\n",
    "    print(nums4[:length4])"
   ]
  },
  {
   "cell_type": "code",
   "execution_count": 16,
   "metadata": {},
   "outputs": [],
   "source": [
    "def main2():\n",
    "    nums1 = [3,2,2,3]\n",
    "    nums2 = [0,1,2,2,3,0,4,2]\n",
    "    nums3 = []\n",
    "    nums4 = [2]\n",
    "    length1 = removeElement2(nums1,3)\n",
    "    print(nums1[:length1])\n",
    "    length2 = removeElement2(nums2,2)\n",
    "    print(nums2[:length2])\n",
    "    length3 = removeElement2(nums3,0)\n",
    "    print(nums3[:length3])\n",
    "    length4 = removeElement2(nums4,3)\n",
    "    print(nums4[:length4])"
   ]
  },
  {
   "cell_type": "code",
   "execution_count": 17,
   "metadata": {},
   "outputs": [
    {
     "name": "stdout",
     "output_type": "stream",
     "text": [
      "[2, 2]\n",
      "[0, 1, 4, 0, 3]\n",
      "[]\n",
      "[2]\n",
      "[2, 2]\n",
      "[0, 1, 3, 0, 4]\n",
      "[]\n",
      "[2]\n"
     ]
    }
   ],
   "source": [
    "if __name__ == \"__main__\":\n",
    "    main()\n",
    "    main2()"
   ]
  },
  {
   "cell_type": "code",
   "execution_count": null,
   "metadata": {},
   "outputs": [],
   "source": []
  }
 ],
 "metadata": {
  "kernelspec": {
   "display_name": "Python 3",
   "language": "python",
   "name": "python3"
  },
  "language_info": {
   "codemirror_mode": {
    "name": "ipython",
    "version": 3
   },
   "file_extension": ".py",
   "mimetype": "text/x-python",
   "name": "python",
   "nbconvert_exporter": "python",
   "pygments_lexer": "ipython3",
   "version": "3.6.7"
  },
  "latex_envs": {
   "LaTeX_envs_menu_present": true,
   "autoclose": false,
   "autocomplete": true,
   "bibliofile": "biblio.bib",
   "cite_by": "apalike",
   "current_citInitial": 1,
   "eqLabelWithNumbers": true,
   "eqNumInitial": 1,
   "hotkeys": {
    "equation": "Ctrl-E",
    "itemize": "Ctrl-I"
   },
   "labels_anchors": false,
   "latex_user_defs": false,
   "report_style_numbering": false,
   "user_envs_cfg": false
  }
 },
 "nbformat": 4,
 "nbformat_minor": 2
}
