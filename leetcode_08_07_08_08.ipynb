{
 "cells": [
  {
   "cell_type": "markdown",
   "metadata": {},
   "source": [
    "### 263. Ugly Number"
   ]
  },
  {
   "cell_type": "code",
   "execution_count": 1,
   "metadata": {
    "collapsed": true
   },
   "outputs": [],
   "source": [
    "def isUgly(num):\n",
    "    if num<=0:\n",
    "        return False\n",
    "    else:\n",
    "        for i in [2,3,5]:\n",
    "            while num%i==0:\n",
    "                num=num//i\n",
    "        return num==1"
   ]
  },
  {
   "cell_type": "code",
   "execution_count": 2,
   "metadata": {},
   "outputs": [
    {
     "name": "stdout",
     "output_type": "stream",
     "text": [
      "True\n",
      "True\n",
      "False\n"
     ]
    }
   ],
   "source": [
    "print(isUgly(6))\n",
    "print(isUgly(8))\n",
    "print(isUgly(14))"
   ]
  },
  {
   "cell_type": "markdown",
   "metadata": {},
   "source": [
    "### 345. Reverse Vowels of a String"
   ]
  },
  {
   "cell_type": "code",
   "execution_count": 3,
   "metadata": {
    "collapsed": true
   },
   "outputs": [],
   "source": [
    "def reverseVowels(s):\n",
    "    vowels={'a','e','i','o','u','A','E','I','O','U'}\n",
    "    vowelStack=[]\n",
    "    indexStack=[]\n",
    "    mylist=list(s)\n",
    "    for index,value in enumerate(s):\n",
    "        if value in vowels:\n",
    "            vowelStack.append(value)\n",
    "            indexStack.append(index)\n",
    "    for index in indexStack:\n",
    "        mylist[index]=vowelStack.pop()\n",
    "    return ''.join(mylist)"
   ]
  },
  {
   "cell_type": "code",
   "execution_count": 4,
   "metadata": {},
   "outputs": [
    {
     "name": "stdout",
     "output_type": "stream",
     "text": [
      "holle\n",
      "leotcede\n"
     ]
    }
   ],
   "source": [
    "print(reverseVowels('hello'))\n",
    "print(reverseVowels('leetcode'))"
   ]
  },
  {
   "cell_type": "markdown",
   "metadata": {},
   "source": [
    "#### Two pointers"
   ]
  },
  {
   "cell_type": "code",
   "execution_count": 5,
   "metadata": {
    "collapsed": true
   },
   "outputs": [],
   "source": [
    "def reverseVowels2(s):\n",
    "    vowels={'a','e','i','o','u','A','E','I','O','U'}\n",
    "    i=0\n",
    "    j=len(s)-1\n",
    "    mylist=list(s)\n",
    "    while i<j:\n",
    "        while i<j and mylist[i] not in vowels:\n",
    "            i+=1\n",
    "        while j>i and mylist[j] not in vowels:\n",
    "            j-=1\n",
    "        mylist[i],mylist[j]=mylist[j],mylist[i]\n",
    "        i+=1\n",
    "        j-=1\n",
    "    return ''.join(mylist)"
   ]
  },
  {
   "cell_type": "code",
   "execution_count": 6,
   "metadata": {},
   "outputs": [
    {
     "name": "stdout",
     "output_type": "stream",
     "text": [
      "holle\n",
      "leotcede\n"
     ]
    }
   ],
   "source": [
    "print(reverseVowels2('hello'))\n",
    "print(reverseVowels2('leetcode'))"
   ]
  },
  {
   "cell_type": "markdown",
   "metadata": {},
   "source": [
    "### 788. Rotated Digits"
   ]
  },
  {
   "cell_type": "code",
   "execution_count": 7,
   "metadata": {
    "collapsed": true
   },
   "outputs": [],
   "source": [
    "def rotatedDigits(N):\n",
    "    mydict={'0':'0','1':'1','8':'8','2':'5','5':'2','6':'9','9':'6'}\n",
    "    count=0\n",
    "    for num in range(1,N+1):\n",
    "        oldNum=list(str(num))\n",
    "        newNum=list(str(num))\n",
    "        for i in range(len(oldNum)):\n",
    "            if oldNum[i] not in mydict:\n",
    "                oldNum[:]=newNum[:]\n",
    "                break\n",
    "            else:\n",
    "                newNum[i]=mydict[oldNum[i]]\n",
    "        if oldNum!=newNum:\n",
    "            count+=1\n",
    "    return count"
   ]
  },
  {
   "cell_type": "code",
   "execution_count": 8,
   "metadata": {},
   "outputs": [
    {
     "name": "stdout",
     "output_type": "stream",
     "text": [
      "4\n",
      "40\n",
      "316\n"
     ]
    }
   ],
   "source": [
    "print(rotatedDigits(10))\n",
    "print(rotatedDigits(100))\n",
    "print(rotatedDigits(1000))"
   ]
  },
  {
   "cell_type": "code",
   "execution_count": 9,
   "metadata": {
    "collapsed": true
   },
   "outputs": [],
   "source": [
    "def rotatedDigits2(N):\n",
    "    change='2569'\n",
    "    avoid='347'\n",
    "    count=0\n",
    "    for num in range(1,N+1):\n",
    "        s=str(num)\n",
    "        flag=0\n",
    "        for char in s:\n",
    "            if char in avoid:\n",
    "                flag=0\n",
    "                break\n",
    "            elif char in change:\n",
    "                flag=1\n",
    "        if flag:\n",
    "            count+=1\n",
    "    return count"
   ]
  },
  {
   "cell_type": "code",
   "execution_count": 10,
   "metadata": {},
   "outputs": [
    {
     "name": "stdout",
     "output_type": "stream",
     "text": [
      "4\n",
      "40\n",
      "316\n"
     ]
    }
   ],
   "source": [
    "print(rotatedDigits2(10))\n",
    "print(rotatedDigits2(100))\n",
    "print(rotatedDigits2(1000))"
   ]
  },
  {
   "cell_type": "markdown",
   "metadata": {},
   "source": [
    "### 367. Valid Perfect Square"
   ]
  },
  {
   "cell_type": "code",
   "execution_count": 11,
   "metadata": {
    "collapsed": true
   },
   "outputs": [],
   "source": [
    "def isPerfectSquare(num):\n",
    "    if num<=0:\n",
    "        return False\n",
    "    else:\n",
    "        sqrt=1\n",
    "        while sqrt*sqrt!=num:\n",
    "            sqrt+=1\n",
    "            if sqrt*sqrt>num:\n",
    "                return False\n",
    "        return True"
   ]
  },
  {
   "cell_type": "code",
   "execution_count": 12,
   "metadata": {},
   "outputs": [
    {
     "name": "stdout",
     "output_type": "stream",
     "text": [
      "False\n",
      "True\n"
     ]
    }
   ],
   "source": [
    "print(isPerfectSquare(123214151))\n",
    "print(isPerfectSquare(225))"
   ]
  },
  {
   "cell_type": "markdown",
   "metadata": {},
   "source": [
    "### 69. Sqrt(x)"
   ]
  },
  {
   "cell_type": "code",
   "execution_count": 13,
   "metadata": {
    "collapsed": true
   },
   "outputs": [],
   "source": [
    "def mySqrt(x):\n",
    "    sqrt=0\n",
    "    while sqrt*sqrt<x:\n",
    "        sqrt+=1\n",
    "    if sqrt*sqrt>x:\n",
    "        sqrt-=1\n",
    "    return sqrt"
   ]
  },
  {
   "cell_type": "code",
   "execution_count": 14,
   "metadata": {},
   "outputs": [
    {
     "name": "stdout",
     "output_type": "stream",
     "text": [
      "2\n",
      "4\n",
      "35235\n"
     ]
    }
   ],
   "source": [
    "print(mySqrt(8))\n",
    "print(mySqrt(16))\n",
    "print(mySqrt(1241556166))"
   ]
  },
  {
   "cell_type": "markdown",
   "metadata": {},
   "source": [
    "#### Binary Search"
   ]
  },
  {
   "cell_type": "code",
   "execution_count": 15,
   "metadata": {
    "collapsed": true
   },
   "outputs": [],
   "source": [
    "def mySqrt2(x):\n",
    "    left=0\n",
    "    right=x\n",
    "    while left<=right:\n",
    "        mid=(left+right)//2\n",
    "        if mid*mid<=x and (mid+1)*(mid+1)>x:\n",
    "            return mid\n",
    "        elif mid*mid>x:\n",
    "            right=mid\n",
    "        else:\n",
    "            left=mid+1"
   ]
  },
  {
   "cell_type": "code",
   "execution_count": 16,
   "metadata": {},
   "outputs": [
    {
     "name": "stdout",
     "output_type": "stream",
     "text": [
      "2\n",
      "4\n",
      "35235\n"
     ]
    }
   ],
   "source": [
    "print(mySqrt2(8))\n",
    "print(mySqrt2(16))\n",
    "print(mySqrt2(1241556166))"
   ]
  },
  {
   "cell_type": "markdown",
   "metadata": {},
   "source": [
    "### 231. Power of Two"
   ]
  },
  {
   "cell_type": "code",
   "execution_count": 17,
   "metadata": {
    "collapsed": true
   },
   "outputs": [],
   "source": [
    "def isPowerOfTwo(n):\n",
    "    if n<1:\n",
    "        return False\n",
    "    while n%2==0:\n",
    "        n=n//2\n",
    "    return n==1"
   ]
  },
  {
   "cell_type": "code",
   "execution_count": 18,
   "metadata": {},
   "outputs": [
    {
     "name": "stdout",
     "output_type": "stream",
     "text": [
      "True\n",
      "False\n"
     ]
    }
   ],
   "source": [
    "print(isPowerOfTwo(4))\n",
    "print(isPowerOfTwo(216))"
   ]
  },
  {
   "cell_type": "markdown",
   "metadata": {},
   "source": [
    "#### Bitwise Operators"
   ]
  },
  {
   "cell_type": "code",
   "execution_count": 19,
   "metadata": {
    "collapsed": true
   },
   "outputs": [],
   "source": [
    "def isPowerOfTwo2(n):\n",
    "    if n<1:\n",
    "        return False\n",
    "    while n>1:\n",
    "        if n&1==1:\n",
    "            return False\n",
    "        n>>=1\n",
    "    return True"
   ]
  },
  {
   "cell_type": "code",
   "execution_count": 20,
   "metadata": {},
   "outputs": [
    {
     "name": "stdout",
     "output_type": "stream",
     "text": [
      "True\n",
      "False\n"
     ]
    }
   ],
   "source": [
    "print(isPowerOfTwo2(4))\n",
    "print(isPowerOfTwo2(216))"
   ]
  },
  {
   "cell_type": "markdown",
   "metadata": {},
   "source": [
    "### 326. Power of Three"
   ]
  },
  {
   "cell_type": "code",
   "execution_count": 21,
   "metadata": {
    "collapsed": true
   },
   "outputs": [],
   "source": [
    "def isPowerOfThree(n):\n",
    "    if n<1:\n",
    "        return False\n",
    "    while n%3==0:\n",
    "        n=n//3\n",
    "    return n==1"
   ]
  },
  {
   "cell_type": "code",
   "execution_count": 22,
   "metadata": {},
   "outputs": [
    {
     "name": "stdout",
     "output_type": "stream",
     "text": [
      "True\n",
      "False\n",
      "False\n",
      "True\n"
     ]
    }
   ],
   "source": [
    "print(isPowerOfThree(27))\n",
    "print(isPowerOfThree(0))\n",
    "print(isPowerOfThree(45))\n",
    "print(isPowerOfThree(9))"
   ]
  },
  {
   "cell_type": "markdown",
   "metadata": {},
   "source": [
    "### 342. Power of Four"
   ]
  },
  {
   "cell_type": "code",
   "execution_count": 23,
   "metadata": {
    "collapsed": true
   },
   "outputs": [],
   "source": [
    "def isPowerOfFour(num):\n",
    "    if num<1:\n",
    "        return False\n",
    "    while num%4==0:\n",
    "        num=num//4\n",
    "    return num==1"
   ]
  },
  {
   "cell_type": "code",
   "execution_count": 24,
   "metadata": {},
   "outputs": [
    {
     "name": "stdout",
     "output_type": "stream",
     "text": [
      "True\n",
      "False\n"
     ]
    }
   ],
   "source": [
    "print(isPowerOfFour(16))\n",
    "print(isPowerOfFour(5))"
   ]
  },
  {
   "cell_type": "markdown",
   "metadata": {},
   "source": [
    "#### Bit Manipulation"
   ]
  },
  {
   "cell_type": "code",
   "execution_count": 31,
   "metadata": {
    "collapsed": true
   },
   "outputs": [],
   "source": [
    "def isPowerOfFour2(num):\n",
    "    if num<1:\n",
    "        return False\n",
    "    else:\n",
    "        s=bin(num)[2:]\n",
    "        return s[0]=='1' and s.count('1')==1 and s.count('0')%2==0"
   ]
  },
  {
   "cell_type": "code",
   "execution_count": 32,
   "metadata": {},
   "outputs": [
    {
     "name": "stdout",
     "output_type": "stream",
     "text": [
      "True\n",
      "False\n"
     ]
    }
   ],
   "source": [
    "print(isPowerOfFour2(16))\n",
    "print(isPowerOfFour2(5))"
   ]
  },
  {
   "cell_type": "code",
   "execution_count": null,
   "metadata": {
    "collapsed": true
   },
   "outputs": [],
   "source": []
  }
 ],
 "metadata": {
  "kernelspec": {
   "display_name": "Python 3",
   "language": "python",
   "name": "python3"
  },
  "language_info": {
   "codemirror_mode": {
    "name": "ipython",
    "version": 3
   },
   "file_extension": ".py",
   "mimetype": "text/x-python",
   "name": "python",
   "nbconvert_exporter": "python",
   "pygments_lexer": "ipython3",
   "version": "3.6.1"
  }
 },
 "nbformat": 4,
 "nbformat_minor": 2
}
