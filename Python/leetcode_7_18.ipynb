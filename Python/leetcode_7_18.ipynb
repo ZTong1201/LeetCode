{
 "cells": [
  {
   "cell_type": "markdown",
   "metadata": {},
   "source": [
    "### 344. Reverse String"
   ]
  },
  {
   "cell_type": "code",
   "execution_count": 1,
   "metadata": {
    "collapsed": true
   },
   "outputs": [],
   "source": [
    "def reverseString(s):\n",
    "    return s[::-1]"
   ]
  },
  {
   "cell_type": "code",
   "execution_count": 2,
   "metadata": {},
   "outputs": [
    {
     "name": "stdout",
     "output_type": "stream",
     "text": [
      "olleh\n"
     ]
    }
   ],
   "source": [
    "print(reverseString('hello'))"
   ]
  },
  {
   "cell_type": "markdown",
   "metadata": {},
   "source": [
    "### 541. Reverse String II"
   ]
  },
  {
   "cell_type": "code",
   "execution_count": 194,
   "metadata": {
    "collapsed": true
   },
   "outputs": [],
   "source": [
    "def reverseStr(s, k):\n",
    "    string=''\n",
    "    resultlist=[]\n",
    "    count=0\n",
    "    i=0\n",
    "    for char in s:\n",
    "        i+=1\n",
    "        if count<k:\n",
    "            string=char+string\n",
    "            count+=1\n",
    "            if i==len(s):\n",
    "                resultlist.append(string)\n",
    "        else:\n",
    "            string+=char\n",
    "            count+=1\n",
    "            if count==2*k or i==len(s):\n",
    "                resultlist.append(string)\n",
    "                string=''\n",
    "                count=0\n",
    "    reversed_string=''\n",
    "    for item in resultlist:\n",
    "        reversed_string+=item\n",
    "    return reversed_string"
   ]
  },
  {
   "cell_type": "code",
   "execution_count": 200,
   "metadata": {},
   "outputs": [
    {
     "name": "stdout",
     "output_type": "stream",
     "text": [
      "bacdfeg\n",
      "dcba\n",
      "abcdefg\n"
     ]
    }
   ],
   "source": [
    "print(reverseStr('abcdefg',2))\n",
    "print(reverseStr('abcd',4))\n",
    "print(reverseStr('abcdefg',1))"
   ]
  },
  {
   "cell_type": "code",
   "execution_count": 201,
   "metadata": {
    "collapsed": true
   },
   "outputs": [],
   "source": [
    "def reverseStr2(s, k):\n",
    "    string=''\n",
    "    length=len(s)\n",
    "    for i in range(0,length,2*k):\n",
    "        string+=s[i:i+k][::-1]+s[i+k:i+2*k]\n",
    "    return string"
   ]
  },
  {
   "cell_type": "code",
   "execution_count": 202,
   "metadata": {},
   "outputs": [
    {
     "name": "stdout",
     "output_type": "stream",
     "text": [
      "bacdfeg\n",
      "dcba\n",
      "abcdefg\n"
     ]
    }
   ],
   "source": [
    "print(reverseStr2('abcdefg',2))\n",
    "print(reverseStr2('abcd',4))\n",
    "print(reverseStr2('abcdefg',1))"
   ]
  },
  {
   "cell_type": "markdown",
   "metadata": {},
   "source": [
    "### 557. Reverse Words in a String III"
   ]
  },
  {
   "cell_type": "code",
   "execution_count": 205,
   "metadata": {
    "collapsed": true
   },
   "outputs": [],
   "source": [
    "def reverseWords(s):\n",
    "    if not s:\n",
    "        return s\n",
    "    wordlist=s.split()\n",
    "    newlist=[]\n",
    "    for word in wordlist:\n",
    "        newlist.append(word[::-1])\n",
    "    string=''\n",
    "    for i in range(len(newlist)-1):\n",
    "        string+=newlist[i]\n",
    "        string+=' '\n",
    "    return string+newlist[len(newlist)-1]"
   ]
  },
  {
   "cell_type": "code",
   "execution_count": 207,
   "metadata": {},
   "outputs": [
    {
     "name": "stdout",
     "output_type": "stream",
     "text": [
      "s'teL ekat edoCteeL tsetnoc\n",
      "\n"
     ]
    }
   ],
   "source": [
    "print(reverseWords(\"Let's take LeetCode contest\"))\n",
    "print(reverseWords(\"\"))"
   ]
  },
  {
   "cell_type": "code",
   "execution_count": 215,
   "metadata": {
    "collapsed": true
   },
   "outputs": [],
   "source": [
    "def reverseWords2(s):\n",
    "    return \" \".join(i[::-1] for i in s.split())"
   ]
  },
  {
   "cell_type": "code",
   "execution_count": 216,
   "metadata": {},
   "outputs": [
    {
     "name": "stdout",
     "output_type": "stream",
     "text": [
      "s'teL ekat edoCteeL tsetnoc\n",
      "\n"
     ]
    }
   ],
   "source": [
    "print(reverseWords2(\"Let's take LeetCode contest\"))\n",
    "print(reverseWords2(\"\"))"
   ]
  },
  {
   "cell_type": "markdown",
   "metadata": {},
   "source": [
    "### 349. Intersection of Two Arrays"
   ]
  },
  {
   "cell_type": "code",
   "execution_count": 217,
   "metadata": {
    "collapsed": true
   },
   "outputs": [],
   "source": [
    "def intersection(nums1, nums2):\n",
    "    mydict={}\n",
    "    for item in set(nums1):\n",
    "        mydict[item]=1\n",
    "    result=[]\n",
    "    for item in set(nums2):\n",
    "        if item in mydict:\n",
    "            result.append(item)\n",
    "    return result"
   ]
  },
  {
   "cell_type": "code",
   "execution_count": 218,
   "metadata": {},
   "outputs": [
    {
     "name": "stdout",
     "output_type": "stream",
     "text": [
      "[2]\n"
     ]
    }
   ],
   "source": [
    "print(intersection([1,2,2,1],[2,2]))"
   ]
  },
  {
   "cell_type": "code",
   "execution_count": 223,
   "metadata": {
    "collapsed": true
   },
   "outputs": [],
   "source": [
    "def intersection2(nums1, nums2):\n",
    "    return list(set(nums1)&set(nums2))"
   ]
  },
  {
   "cell_type": "code",
   "execution_count": 224,
   "metadata": {},
   "outputs": [
    {
     "name": "stdout",
     "output_type": "stream",
     "text": [
      "[2]\n"
     ]
    }
   ],
   "source": [
    "print(intersection2([1,2,2,1],[2,2]))"
   ]
  },
  {
   "cell_type": "markdown",
   "metadata": {},
   "source": [
    "### 350. Intersection of Two Arrays II"
   ]
  },
  {
   "cell_type": "code",
   "execution_count": null,
   "metadata": {
    "collapsed": true
   },
   "outputs": [],
   "source": [
    "def intersect(nums1, nums2):\n",
    "    mydict1={}\n",
    "    mydict2={}\n",
    "    for item in nums1:\n",
    "        if item not in mydict1:\n",
    "            mydict1[item]=1\n",
    "        else:\n",
    "            mydict1[item]+=1\n",
    "    for item in nums2:\n",
    "        if item not in mydict2:\n",
    "            mydict2[item]=1\n",
    "        else:\n",
    "            mydict2[item]+=1\n",
    "    result=[]\n",
    "    for num in mydict1:\n",
    "        if num in mydict2:\n",
    "            length=min(mydict1[num],)"
   ]
  }
 ],
 "metadata": {
  "kernelspec": {
   "display_name": "Python 3",
   "language": "python",
   "name": "python3"
  },
  "language_info": {
   "codemirror_mode": {
    "name": "ipython",
    "version": 3
   },
   "file_extension": ".py",
   "mimetype": "text/x-python",
   "name": "python",
   "nbconvert_exporter": "python",
   "pygments_lexer": "ipython3",
   "version": "3.6.1"
  }
 },
 "nbformat": 4,
 "nbformat_minor": 2
}
