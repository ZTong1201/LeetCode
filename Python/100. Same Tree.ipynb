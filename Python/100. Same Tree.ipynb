{
 "cells": [
  {
   "cell_type": "markdown",
   "metadata": {},
   "source": [
    "### 100. Same Tree\n",
    "Given two binary trees, write a function to check if they are the same or not.\n",
    "\n",
    "Two binary trees are considered the same if they are structurally identical and the nodes have the same value."
   ]
  },
  {
   "cell_type": "code",
   "execution_count": 50,
   "metadata": {},
   "outputs": [],
   "source": [
    "class TreeNode:\n",
    "    def __init__(self, x):\n",
    "        self.val = x\n",
    "        self.left = None\n",
    "        self.right = None"
   ]
  },
  {
   "cell_type": "markdown",
   "metadata": {},
   "source": [
    "Recursion Method\n",
    "<br>\n",
    "Time: O(n), Space: O(logn) in the best case of completely balanced tree and O(n) in the worst case of completely unbalanced tree.\n",
    "<br>\n",
    "Iterative Method\n",
    "<br>\n",
    "Time: O(n), Space: O(logn) in the best case of completely balanced tree and O(n) in the worst case of completely unbalanced tree."
   ]
  },
  {
   "cell_type": "code",
   "execution_count": 51,
   "metadata": {},
   "outputs": [],
   "source": [
    "from collections import deque\n",
    "\n",
    "\n",
    "class Solution:\n",
    "\n",
    "    def isSameTree_recursive1(self, p, q):\n",
    "        if not p and not q:\n",
    "            return True\n",
    "        if not p or not q:\n",
    "            return False\n",
    "        if p.val != q.val:\n",
    "            return False\n",
    "        return self.isSameTree_recursive1(p.left, q.left) and self.isSameTree_recursive1(p.right, q.right)\n",
    "\n",
    "    def isSameTree_recursive2(self, p, q):\n",
    "        if not p and not q:\n",
    "            return True\n",
    "        while p and q:\n",
    "            if p.val != q.val:\n",
    "                return False\n",
    "            return self.isSameTree_recursive2(p.left, q.left) and self.isSameTree_recursive2(p.right, q.right)\n",
    "        return False\n",
    "\n",
    "    def isSameTree_iterative(self, p, q):\n",
    "        deque_p = deque()\n",
    "        deque_q = deque()\n",
    "        deque_p.append(p)\n",
    "        deque_q.append(q)\n",
    "        while deque_p and deque_q:\n",
    "            while deque_p and deque_q:\n",
    "                node_p = deque_p.popleft()\n",
    "                node_q = deque_q.popleft()\n",
    "                if not node_p and not node_q:\n",
    "                    continue\n",
    "                if not node_p or not node_q:\n",
    "                    return False\n",
    "                if node_p.val != node_q.val:\n",
    "                    return False\n",
    "                deque_p.append(node_p.left)\n",
    "                deque_q.append(node_q.left)\n",
    "                deque_p.append(node_p.right)\n",
    "                deque_q.append(node_q.right)"
   ]
  },
  {
   "cell_type": "code",
   "execution_count": 52,
   "metadata": {},
   "outputs": [],
   "source": [
    "def main():\n",
    "    test1_tree1 = TreeNode(1)\n",
    "    test1_tree1.left = TreeNode(2)\n",
    "    test1_tree1.right = TreeNode(3)\n",
    "    test1_tree2 = TreeNode(1)\n",
    "    test1_tree2.left = TreeNode(2)\n",
    "    test1_tree2.right = TreeNode(3)\n",
    "    solution = Solution()\n",
    "    print(\"Tree 1\")\n",
    "    print(\"Recursion 1: \", solution.isSameTree_recursive1(test1_tree1, test1_tree2))\n",
    "    print(\"Recursion 2: \", solution.isSameTree_recursive2(test1_tree1, test1_tree2))\n",
    "    print(\"Iteration 1: \", solution.isSameTree_iterative(test1_tree1, test1_tree2))\n",
    "    print('-'*25)\n",
    "    test2_tree1 = TreeNode(1)\n",
    "    test2_tree1.left = TreeNode(2)\n",
    "    test2_tree2 = TreeNode(1)\n",
    "    test2_tree2.right = TreeNode(2)\n",
    "    print(\"Tree 2\")\n",
    "    print(\"Recursion 1: \", solution.isSameTree_recursive1(test2_tree1, test2_tree2))\n",
    "    print(\"Recursion 2: \", solution.isSameTree_recursive2(test2_tree1, test2_tree2))\n",
    "    print(\"Iteration 1: \", solution.isSameTree_iterative(test2_tree1, test2_tree2))\n",
    "    print(\"-\"*25)\n",
    "    test3_tree1 = TreeNode(1)\n",
    "    test3_tree1.left = TreeNode(2)\n",
    "    test3_tree1.right = TreeNode(1)\n",
    "    test3_tree2 = TreeNode(1)\n",
    "    test3_tree2.left = TreeNode(1)\n",
    "    test3_tree2.right = TreeNode(2)\n",
    "    print(\"Tree 3abs\")\n",
    "    print(\"Recursion 1: \", solution.isSameTree_recursive1(test3_tree1, test3_tree2))\n",
    "    print(\"Recursion 2: \", solution.isSameTree_recursive2(test3_tree1, test3_tree2))\n",
    "    print(\"Iteration 1: \", solution.isSameTree_iterative(test3_tree1, test3_tree2))"
   ]
  },
  {
   "cell_type": "code",
   "execution_count": 53,
   "metadata": {},
   "outputs": [
    {
     "name": "stdout",
     "output_type": "stream",
     "text": [
      "Tree 1\n",
      "Recursion 1:  True\n",
      "Recursion 2:  True\n",
      "Iteration 1:  None\n",
      "-------------------------\n",
      "Tree 2\n",
      "Recursion 1:  False\n",
      "Recursion 2:  False\n",
      "Iteration 1:  False\n",
      "-------------------------\n",
      "Tree 3abs\n",
      "Recursion 1:  False\n",
      "Recursion 2:  False\n",
      "Iteration 1:  False\n"
     ]
    }
   ],
   "source": [
    "if __name__ == \"__main__\":\n",
    "    main()"
   ]
  },
  {
   "cell_type": "code",
   "execution_count": null,
   "metadata": {},
   "outputs": [],
   "source": []
  }
 ],
 "metadata": {
  "kernelspec": {
   "display_name": "Python 3",
   "language": "python",
   "name": "python3"
  },
  "language_info": {
   "codemirror_mode": {
    "name": "ipython",
    "version": 3
   },
   "file_extension": ".py",
   "mimetype": "text/x-python",
   "name": "python",
   "nbconvert_exporter": "python",
   "pygments_lexer": "ipython3",
   "version": "3.7.3"
  },
  "latex_envs": {
   "LaTeX_envs_menu_present": true,
   "autoclose": false,
   "autocomplete": true,
   "bibliofile": "biblio.bib",
   "cite_by": "apalike",
   "current_citInitial": 1,
   "eqLabelWithNumbers": true,
   "eqNumInitial": 1,
   "hotkeys": {
    "equation": "Ctrl-E",
    "itemize": "Ctrl-I"
   },
   "labels_anchors": false,
   "latex_user_defs": false,
   "report_style_numbering": false,
   "user_envs_cfg": false
  }
 },
 "nbformat": 4,
 "nbformat_minor": 2
}
