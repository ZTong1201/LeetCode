{
 "cells": [
  {
   "cell_type": "markdown",
   "metadata": {},
   "source": [
    "### 26. Remove Duplicates from Sorted Array\n",
    "Given a sorted array nums, remove the duplicates in-place such that each element appear only once and return the new length.\n",
    "\n",
    "Do not allocate extra space for another array, you must do this by modifying the input array in-place with O(1) extra memory."
   ]
  },
  {
   "cell_type": "markdown",
   "metadata": {},
   "source": [
    "Use set()"
   ]
  },
  {
   "cell_type": "markdown",
   "metadata": {},
   "source": [
    "Time: O(n) traverse all the entries in the list, Space: O(1) in-place modification required"
   ]
  },
  {
   "cell_type": "code",
   "execution_count": 38,
   "metadata": {},
   "outputs": [],
   "source": [
    "def removeDuplicates(nums):\n",
    "    \"\"\"\n",
    "    :type nums: List[int]\n",
    "    :rtype: int\n",
    "    \"\"\"\n",
    "    if len(nums)<=1:\n",
    "        return len(nums)\n",
    "    i = 0\n",
    "    j = 1\n",
    "    while j<len(nums):\n",
    "        if nums[i] == nums[j]:\n",
    "            j += 1\n",
    "        else:\n",
    "            i += 1\n",
    "            nums[i] = nums[j]\n",
    "            j += 1\n",
    "    return i+1"
   ]
  },
  {
   "cell_type": "code",
   "execution_count": 39,
   "metadata": {},
   "outputs": [],
   "source": [
    "def main():\n",
    "    nums1 = [1,1,2]\n",
    "    nums2 = [0,0,1,1,1,2,2,3,3,4]\n",
    "    nums3 = [-1,0,0,0,0,0,0,3,3]\n",
    "    nums4 = []\n",
    "    nums5 = [1]\n",
    "    length1 = removeDuplicates(nums1)\n",
    "    print(nums1[:length1])\n",
    "    length2 = removeDuplicates(nums2)\n",
    "    print(nums2[:length2])\n",
    "    length3 = removeDuplicates(nums3)\n",
    "    print(nums3[:length3])\n",
    "    length4 = removeDuplicates(nums4)\n",
    "    print(nums4[:length4])\n",
    "    length5 = removeDuplicates(nums5)\n",
    "    print(nums5[:length5])"
   ]
  },
  {
   "cell_type": "code",
   "execution_count": 40,
   "metadata": {},
   "outputs": [
    {
     "name": "stdout",
     "output_type": "stream",
     "text": [
      "[1, 2]\n",
      "[0, 1, 2, 3, 4]\n",
      "[-1, 0, 3]\n",
      "[]\n",
      "[1]\n"
     ]
    }
   ],
   "source": [
    "if __name__ == \"__main__\":\n",
    "    main()"
   ]
  },
  {
   "cell_type": "code",
   "execution_count": null,
   "metadata": {},
   "outputs": [],
   "source": []
  }
 ],
 "metadata": {
  "kernelspec": {
   "display_name": "Python 3",
   "language": "python",
   "name": "python3"
  },
  "language_info": {
   "codemirror_mode": {
    "name": "ipython",
    "version": 3
   },
   "file_extension": ".py",
   "mimetype": "text/x-python",
   "name": "python",
   "nbconvert_exporter": "python",
   "pygments_lexer": "ipython3",
   "version": "3.6.7"
  },
  "latex_envs": {
   "LaTeX_envs_menu_present": true,
   "autoclose": false,
   "autocomplete": true,
   "bibliofile": "biblio.bib",
   "cite_by": "apalike",
   "current_citInitial": 1,
   "eqLabelWithNumbers": true,
   "eqNumInitial": 1,
   "hotkeys": {
    "equation": "Ctrl-E",
    "itemize": "Ctrl-I"
   },
   "labels_anchors": false,
   "latex_user_defs": false,
   "report_style_numbering": false,
   "user_envs_cfg": false
  }
 },
 "nbformat": 4,
 "nbformat_minor": 2
}
