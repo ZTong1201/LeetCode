{
 "cells": [
  {
   "cell_type": "markdown",
   "metadata": {},
   "source": [
    "### 205. Isomorphic Strings"
   ]
  },
  {
   "cell_type": "markdown",
   "metadata": {},
   "source": [
    "##### Convert a string into a list whose elements represent the first occurence of each character. If two strings are isomorphic, they will have same lists. For example, 'aab' and 'ccd' have the same list [0,0,2]"
   ]
  },
  {
   "cell_type": "code",
   "execution_count": 1,
   "metadata": {
    "collapsed": true
   },
   "outputs": [],
   "source": [
    "def isIsomorphic(s, t):\n",
    "    mylist1=[]\n",
    "    mydict1={}\n",
    "    for i in range(len(s)):\n",
    "        if s[i] not in mydict1:\n",
    "            mydict1[s[i]]=i\n",
    "            mylist1.append(i)\n",
    "        else:\n",
    "            mylist1.append(mydict1[s[i]])\n",
    "    mylist2=[]\n",
    "    mydict2={}\n",
    "    for i in range(len(t)):\n",
    "        if t[i] not in mydict2:\n",
    "            mydict2[t[i]]=i\n",
    "            mylist2.append(i)\n",
    "        else:\n",
    "            mylist2.append(mydict2[t[i]])\n",
    "    return mylist1==mylist2"
   ]
  },
  {
   "cell_type": "code",
   "execution_count": 2,
   "metadata": {},
   "outputs": [
    {
     "name": "stdout",
     "output_type": "stream",
     "text": [
      "True\n",
      "False\n",
      "True\n"
     ]
    }
   ],
   "source": [
    "print(isIsomorphic('egg','add'))\n",
    "print(isIsomorphic('foo','bar'))\n",
    "print(isIsomorphic('paper','title'))"
   ]
  },
  {
   "cell_type": "markdown",
   "metadata": {},
   "source": [
    "### 290. Word Pattern"
   ]
  },
  {
   "cell_type": "code",
   "execution_count": 3,
   "metadata": {
    "collapsed": true
   },
   "outputs": [],
   "source": [
    "def wordPattern(pattern, string):\n",
    "    strList=string.split()\n",
    "    mylist1=[]\n",
    "    mydict1={}\n",
    "    for i in range(len(pattern)):\n",
    "        if pattern[i] not in mydict1:\n",
    "            mydict1[pattern[i]]=i\n",
    "            mylist1.append(i)\n",
    "        else:\n",
    "            mylist1.append(mydict1[pattern[i]])\n",
    "    mylist2=[]\n",
    "    mydict2={}\n",
    "    for i in range(len(strList)):\n",
    "        if strList[i] not in mydict2:\n",
    "            mydict2[strList[i]]=i\n",
    "            mylist2.append(i)\n",
    "        else:\n",
    "            mylist2.append(mydict2[strList[i]])\n",
    "    return mylist1==mylist2"
   ]
  },
  {
   "cell_type": "code",
   "execution_count": 4,
   "metadata": {},
   "outputs": [
    {
     "name": "stdout",
     "output_type": "stream",
     "text": [
      "True\n",
      "False\n",
      "False\n",
      "False\n"
     ]
    }
   ],
   "source": [
    "print(wordPattern(\"abba\",\"dog cat cat dog\"))\n",
    "print(wordPattern(\"abba\",\"dog cat cat fish\"))\n",
    "print(wordPattern(\"aaaa\",\"dog cat cat dog\"))\n",
    "print(wordPattern(\"abba\",\"dog dog dog dog\"))"
   ]
  },
  {
   "cell_type": "markdown",
   "metadata": {},
   "source": [
    "### 217. Contains Duplicate"
   ]
  },
  {
   "cell_type": "code",
   "execution_count": 5,
   "metadata": {
    "collapsed": true
   },
   "outputs": [],
   "source": [
    "def containsDuplicate(nums):\n",
    "    return len(set(nums))!=len(nums)"
   ]
  },
  {
   "cell_type": "code",
   "execution_count": 6,
   "metadata": {},
   "outputs": [
    {
     "name": "stdout",
     "output_type": "stream",
     "text": [
      "True\n",
      "False\n"
     ]
    }
   ],
   "source": [
    "print(containsDuplicate([1,2,3,1]))\n",
    "print(containsDuplicate([1,2,3,4]))"
   ]
  },
  {
   "cell_type": "markdown",
   "metadata": {},
   "source": [
    "### 219. Contains Duplicate II"
   ]
  },
  {
   "cell_type": "code",
   "execution_count": 7,
   "metadata": {
    "collapsed": true
   },
   "outputs": [],
   "source": [
    "def containsNearbyDuplicate(nums, k):\n",
    "    mydict={}\n",
    "    for index,value in enumerate(nums):\n",
    "        if value not in mydict:\n",
    "            mydict[value]=index\n",
    "        else:\n",
    "            if index-mydict[value]<=k:\n",
    "                return True\n",
    "            else:\n",
    "                mydict[value]=index\n",
    "    return False"
   ]
  },
  {
   "cell_type": "code",
   "execution_count": 8,
   "metadata": {},
   "outputs": [
    {
     "name": "stdout",
     "output_type": "stream",
     "text": [
      "True\n",
      "True\n",
      "False\n"
     ]
    }
   ],
   "source": [
    "print(containsNearbyDuplicate([1,2,3,1],3))\n",
    "print(containsNearbyDuplicate([1,0,1,1],1))\n",
    "print(containsNearbyDuplicate([1,2,3,1,2,3],2))"
   ]
  },
  {
   "cell_type": "markdown",
   "metadata": {},
   "source": [
    "### 237. Delete Node in a Linked List"
   ]
  },
  {
   "cell_type": "code",
   "execution_count": 9,
   "metadata": {
    "collapsed": true
   },
   "outputs": [],
   "source": [
    "class ListNode(object):\n",
    "    def __init__(self,x):\n",
    "        self.val=x\n",
    "        self.next=None"
   ]
  },
  {
   "cell_type": "code",
   "execution_count": 10,
   "metadata": {
    "collapsed": true
   },
   "outputs": [],
   "source": [
    "def deleteNode(node):\n",
    "    node.val=node.next.val\n",
    "    node.next=node.next.next"
   ]
  },
  {
   "cell_type": "markdown",
   "metadata": {
    "collapsed": true
   },
   "source": [
    "### 283. Move Zeroes"
   ]
  },
  {
   "cell_type": "code",
   "execution_count": 17,
   "metadata": {},
   "outputs": [],
   "source": [
    "def moveZeroes(nums):\n",
    "    mylist=[]\n",
    "    for num in nums:\n",
    "        if num!=0:\n",
    "            mylist.append(num)\n",
    "    for i in range(len(mylist)-1,len(nums)):\n",
    "        mylist.append(0)\n",
    "    for i in range(len(nums)):\n",
    "        nums[i]=mylist[i]\n",
    "    return nums"
   ]
  },
  {
   "cell_type": "code",
   "execution_count": 18,
   "metadata": {},
   "outputs": [
    {
     "name": "stdout",
     "output_type": "stream",
     "text": [
      "[1, 3, 12, 0, 0]\n"
     ]
    }
   ],
   "source": [
    "print(moveZeroes([0,1,0,3,12]))"
   ]
  },
  {
   "cell_type": "markdown",
   "metadata": {},
   "source": [
    "### 292. Nim Game"
   ]
  },
  {
   "cell_type": "code",
   "execution_count": 19,
   "metadata": {
    "collapsed": true
   },
   "outputs": [],
   "source": [
    "def canWinNim(n):\n",
    "    if n%4==0:\n",
    "        return False\n",
    "    else:\n",
    "        return True"
   ]
  },
  {
   "cell_type": "code",
   "execution_count": null,
   "metadata": {
    "collapsed": true
   },
   "outputs": [],
   "source": []
  }
 ],
 "metadata": {
  "kernelspec": {
   "display_name": "Python 3",
   "language": "python",
   "name": "python3"
  },
  "language_info": {
   "codemirror_mode": {
    "name": "ipython",
    "version": 3
   },
   "file_extension": ".py",
   "mimetype": "text/x-python",
   "name": "python",
   "nbconvert_exporter": "python",
   "pygments_lexer": "ipython3",
   "version": "3.6.1"
  }
 },
 "nbformat": 4,
 "nbformat_minor": 2
}
