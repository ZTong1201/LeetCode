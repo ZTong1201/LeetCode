{
 "cells": [
  {
   "cell_type": "markdown",
   "metadata": {},
   "source": [
    "### 53. Maximum Subarray"
   ]
  },
  {
   "cell_type": "code",
   "execution_count": 3,
   "metadata": {},
   "outputs": [],
   "source": [
    "def maxSubArray(nums):\n",
    "    if not nums:\n",
    "        return None\n",
    "    if len(nums)==1:\n",
    "        return num[0]\n",
    "    dp=[0]*len(nums)\n",
    "    dp[0]=nums[0]\n",
    "    res=dp[0]\n",
    "    for i in range(1,len(nums)):\n",
    "        if dp[i-1]+nums[i]>=nums[i]:\n",
    "            dp[i]=dp[i-1]+nums[i]\n",
    "        else:\n",
    "            dp[i]=nums[i]\n",
    "        if dp[i]>res:\n",
    "            res=dp[i]\n",
    "    return res"
   ]
  },
  {
   "cell_type": "code",
   "execution_count": 4,
   "metadata": {},
   "outputs": [
    {
     "name": "stdout",
     "output_type": "stream",
     "text": [
      "6\n",
      "21\n"
     ]
    }
   ],
   "source": [
    "print(maxSubArray([-2,1,-3,4,-1,2,1,-5,4]))\n",
    "print(maxSubArray([1,2,3,4,5,6,-1]))"
   ]
  },
  {
   "cell_type": "markdown",
   "metadata": {},
   "source": [
    "### 112. Path Sum"
   ]
  },
  {
   "cell_type": "code",
   "execution_count": 5,
   "metadata": {},
   "outputs": [],
   "source": [
    "class TreeNode:\n",
    "    def __init__(self, x):\n",
    "        self.val = x\n",
    "        self.left = None\n",
    "        self.right = None\n",
    "    \n",
    "    def insertLeft(self,newNode):\n",
    "        if self.left==None:\n",
    "            self.left=TreeNode(newNode)\n",
    "        else:\n",
    "            t=TreeNode(newNode)\n",
    "            t.left=self.left\n",
    "            self.left=t\n",
    "            \n",
    "    def insertRight(self,newNode):\n",
    "        if self.right==None:\n",
    "            self.right=TreeNode(newNode)\n",
    "        else:\n",
    "            t=TreeNode(newNode)\n",
    "            t.right=self.right\n",
    "            self.right=t"
   ]
  },
  {
   "cell_type": "code",
   "execution_count": 6,
   "metadata": {},
   "outputs": [],
   "source": [
    "tree1=TreeNode(5)\n",
    "tree1.insertLeft(4)\n",
    "tree1.insertRight(8)\n",
    "tree1.left.left=TreeNode(11)\n",
    "tree1.left.left.insertLeft(7)\n",
    "tree1.left.left.insertRight(2)\n",
    "tree1.right.insertLeft(13)\n",
    "tree1.right.insertRight(4)\n",
    "tree1.right.right.right=TreeNode(1)"
   ]
  },
  {
   "cell_type": "code",
   "execution_count": 7,
   "metadata": {},
   "outputs": [],
   "source": [
    "def preorder(tree):\n",
    "    if tree:\n",
    "        print(tree.val)\n",
    "        preorder(tree.left)\n",
    "        preorder(tree.right)"
   ]
  },
  {
   "cell_type": "code",
   "execution_count": 8,
   "metadata": {},
   "outputs": [
    {
     "name": "stdout",
     "output_type": "stream",
     "text": [
      "5\n",
      "4\n",
      "11\n",
      "7\n",
      "2\n",
      "8\n",
      "13\n",
      "4\n",
      "1\n"
     ]
    }
   ],
   "source": [
    "preorder(tree1)"
   ]
  },
  {
   "cell_type": "code",
   "execution_count": 9,
   "metadata": {},
   "outputs": [],
   "source": [
    "class Solution112:\n",
    "    def __init__(self):\n",
    "        self.found=False\n",
    "        self.res=0\n",
    "        \n",
    "    def hasPathSum(self,root,sum1):\n",
    "        if root and not self.found:\n",
    "            self.res+=root.val\n",
    "            if not root.left and not root.right and self.res==sum1:\n",
    "                self.found=True\n",
    "            self.hasPathSum(root.left,sum1)\n",
    "            self.hasPathSum(root.right,sum1)\n",
    "            self.res-=root.val\n",
    "        return self.found\n",
    "    \n",
    "    def hasPathSum2(self,root,sum1):\n",
    "        if not root:\n",
    "            return False\n",
    "        if not root.left and not root.right:\n",
    "            if sum1==root.val:\n",
    "                return True\n",
    "            else:\n",
    "                return False\n",
    "        return self.hasPathSum2(root.left,sum1-root.val) or self.hasPathSum2(root.right,sum1-root.val)"
   ]
  },
  {
   "cell_type": "code",
   "execution_count": 10,
   "metadata": {},
   "outputs": [
    {
     "name": "stdout",
     "output_type": "stream",
     "text": [
      "True\n",
      "True\n"
     ]
    }
   ],
   "source": [
    "solution=Solution112()\n",
    "print(solution.hasPathSum(tree1,22))\n",
    "print(solution.hasPathSum2(tree1,22))"
   ]
  },
  {
   "cell_type": "markdown",
   "metadata": {},
   "source": [
    "### 121. Best Time to Buy and Sell Stock"
   ]
  },
  {
   "cell_type": "code",
   "execution_count": 11,
   "metadata": {},
   "outputs": [],
   "source": [
    "def maxProfit188(prices):\n",
    "    profit=0\n",
    "    if not prices or len(prices)==1:\n",
    "        return profit\n",
    "    buy=prices[0]\n",
    "    for i in range(1,len(prices)):\n",
    "        if prices[i]<buy:\n",
    "            buy=prices[i]\n",
    "        elif prices[i]-buy>profit:\n",
    "            profit=prices[i]-buy\n",
    "    return profit"
   ]
  },
  {
   "cell_type": "code",
   "execution_count": 12,
   "metadata": {},
   "outputs": [
    {
     "name": "stdout",
     "output_type": "stream",
     "text": [
      "5\n",
      "0\n"
     ]
    }
   ],
   "source": [
    "print(maxProfit188([7,1,5,3,6,4]))\n",
    "print(maxProfit188([7,6,4,3,1]))"
   ]
  },
  {
   "cell_type": "markdown",
   "metadata": {},
   "source": [
    "### 118. Pascal's Triangle"
   ]
  },
  {
   "cell_type": "code",
   "execution_count": 13,
   "metadata": {},
   "outputs": [],
   "source": [
    "def generate(numRows):\n",
    "    res=[]\n",
    "    for i in range(numRows):\n",
    "        row=[0 for _ in range(i+1)]\n",
    "        row[0],row[-1]=1,1\n",
    "        for j in range(1,len(row)-1):\n",
    "            row[j]=res[i-1][j-1]+res[i-1][j]\n",
    "        res.append(row)\n",
    "    return res"
   ]
  },
  {
   "cell_type": "code",
   "execution_count": 14,
   "metadata": {},
   "outputs": [
    {
     "name": "stdout",
     "output_type": "stream",
     "text": [
      "[[1], [1, 1], [1, 2, 1], [1, 3, 3, 1], [1, 4, 6, 4, 1]]\n",
      "[[1], [1, 1], [1, 2, 1], [1, 3, 3, 1], [1, 4, 6, 4, 1], [1, 5, 10, 10, 5, 1], [1, 6, 15, 20, 15, 6, 1]]\n"
     ]
    }
   ],
   "source": [
    "print(generate(5))\n",
    "print(generate(7))"
   ]
  },
  {
   "cell_type": "markdown",
   "metadata": {},
   "source": [
    "### 119. Pascal's Triangle II"
   ]
  },
  {
   "cell_type": "markdown",
   "metadata": {},
   "source": [
    "#### O($k^2$) extra space"
   ]
  },
  {
   "cell_type": "code",
   "execution_count": 31,
   "metadata": {},
   "outputs": [],
   "source": [
    "def getRow(rowIndex):\n",
    "    res=[]\n",
    "    for i in range(rowIndex+1):\n",
    "        row=[0 for _ in range(i+1)]\n",
    "        row[0],row[-1]=1,1\n",
    "        for j in range(1,len(row)-1):\n",
    "            row[j]=res[i-1][j-1]+res[i-1][j]\n",
    "        res.append(row)\n",
    "    return res[rowIndex]"
   ]
  },
  {
   "cell_type": "code",
   "execution_count": 35,
   "metadata": {},
   "outputs": [
    {
     "name": "stdout",
     "output_type": "stream",
     "text": [
      "[1, 3, 3, 1]\n",
      "[1, 5, 10, 10, 5, 1]\n"
     ]
    }
   ],
   "source": [
    "print(getRow(3))\n",
    "print(getRow(5))"
   ]
  },
  {
   "cell_type": "markdown",
   "metadata": {},
   "source": [
    "#### O(k) extra space"
   ]
  },
  {
   "cell_type": "code",
   "execution_count": 37,
   "metadata": {},
   "outputs": [],
   "source": [
    "def getRow2(rowIndex):\n",
    "    row=[1]\n",
    "    for _ in range(rowIndex):\n",
    "        row=[x+y for x,y in zip([0]+row,row+[0])]\n",
    "    return row"
   ]
  },
  {
   "cell_type": "code",
   "execution_count": 38,
   "metadata": {},
   "outputs": [
    {
     "name": "stdout",
     "output_type": "stream",
     "text": [
      "[1, 3, 3, 1]\n",
      "[1, 5, 10, 10, 5, 1]\n"
     ]
    }
   ],
   "source": [
    "print(getRow2(3))\n",
    "print(getRow2(5))"
   ]
  },
  {
   "cell_type": "markdown",
   "metadata": {},
   "source": [
    "### 101. Symmetric Tree"
   ]
  },
  {
   "cell_type": "code",
   "execution_count": 30,
   "metadata": {},
   "outputs": [],
   "source": [
    "def isSymmetric(root):\n",
    "    if not root:\n",
    "        return True\n",
    "    queue=[]\n",
    "    queue.append(root)\n",
    "    while len(queue)!=0:\n",
    "        level=[]\n",
    "        j=len(queue)\n",
    "        while j>0:\n",
    "            tree=queue.pop(0)\n",
    "            if tree:\n",
    "                level.append(tree.val)\n",
    "            else:\n",
    "                level.append(None)\n",
    "            if tree:\n",
    "                queue.append(tree.left)\n",
    "                queue.append(tree.right)\n",
    "            j-=1\n",
    "        if level!=level[::-1]:\n",
    "            return False\n",
    "    return True"
   ]
  },
  {
   "cell_type": "code",
   "execution_count": 22,
   "metadata": {},
   "outputs": [],
   "source": [
    "tree2=TreeNode(1)\n",
    "tree2.insertLeft(2)\n",
    "tree2.insertRight(2)\n",
    "tree2.left.left=TreeNode(3)\n",
    "tree2.left.right=TreeNode(4)\n",
    "tree2.right.left=TreeNode(4)\n",
    "tree2.right.right=TreeNode(3)"
   ]
  },
  {
   "cell_type": "code",
   "execution_count": 23,
   "metadata": {},
   "outputs": [],
   "source": [
    "tree3=TreeNode(1)\n",
    "tree3.insertLeft(2)\n",
    "tree3.insertRight(2)\n",
    "tree3.left.right=TreeNode(3)\n",
    "tree3.right.right=TreeNode(3)"
   ]
  },
  {
   "cell_type": "code",
   "execution_count": 29,
   "metadata": {},
   "outputs": [
    {
     "name": "stdout",
     "output_type": "stream",
     "text": [
      "True\n",
      "False\n"
     ]
    }
   ],
   "source": [
    "print(isSymmetric(tree2))\n",
    "print(isSymmetric(tree3))"
   ]
  },
  {
   "cell_type": "markdown",
   "metadata": {},
   "source": [
    "### 110. Balanced Binary Tree"
   ]
  },
  {
   "cell_type": "code",
   "execution_count": 107,
   "metadata": {},
   "outputs": [],
   "source": [
    "class Solution110:\n",
    "    def isBalanced(self,root):\n",
    "        if not root:\n",
    "            return True\n",
    "        queue=[root]\n",
    "        while queue:\n",
    "            tree=queue.pop(0)\n",
    "            if tree.left:\n",
    "                queue.append(tree.left)\n",
    "            if tree.right:\n",
    "                queue.append(tree.right)\n",
    "            if self.getHeightDiff(root)>1:\n",
    "                return False\n",
    "        return True\n",
    "\n",
    "    def getHeight(self,root):\n",
    "        if not root:\n",
    "            return 0\n",
    "        return max(self.getHeight(root.left),self.getHeight(root.right))+1\n",
    "    \n",
    "    def getHeightDiff(self,root):\n",
    "        lefth=self.getHeight(root.left)\n",
    "        righth=self.getHeight(root.right)\n",
    "        return abs(lefth-righth)"
   ]
  },
  {
   "cell_type": "code",
   "execution_count": 101,
   "metadata": {},
   "outputs": [],
   "source": [
    "tree4=TreeNode(3)\n",
    "tree4.insertLeft(9)\n",
    "tree4.insertRight(20)\n",
    "tree4.right.left=TreeNode(15)\n",
    "tree4.right.right=TreeNode(7)"
   ]
  },
  {
   "cell_type": "code",
   "execution_count": 102,
   "metadata": {},
   "outputs": [
    {
     "name": "stdout",
     "output_type": "stream",
     "text": [
      "3\n",
      "9\n",
      "20\n",
      "15\n",
      "7\n"
     ]
    }
   ],
   "source": [
    "preorder(tree4)"
   ]
  },
  {
   "cell_type": "code",
   "execution_count": 109,
   "metadata": {},
   "outputs": [
    {
     "data": {
      "text/plain": [
       "True"
      ]
     },
     "execution_count": 109,
     "metadata": {},
     "output_type": "execute_result"
    }
   ],
   "source": [
    "solution110=Solution110()\n",
    "solution110.isBalanced(tree4)"
   ]
  },
  {
   "cell_type": "code",
   "execution_count": 104,
   "metadata": {},
   "outputs": [],
   "source": [
    "tree5=TreeNode(1)\n",
    "tree5.insertRight(2)\n",
    "tree5.right.right=TreeNode(3)"
   ]
  },
  {
   "cell_type": "code",
   "execution_count": 111,
   "metadata": {},
   "outputs": [
    {
     "name": "stdout",
     "output_type": "stream",
     "text": [
      "1\n",
      "2\n",
      "3\n"
     ]
    }
   ],
   "source": [
    "preorder(tree5)"
   ]
  },
  {
   "cell_type": "code",
   "execution_count": 113,
   "metadata": {},
   "outputs": [
    {
     "data": {
      "text/plain": [
       "False"
      ]
     },
     "execution_count": 113,
     "metadata": {},
     "output_type": "execute_result"
    }
   ],
   "source": [
    "solution110.isBalanced(tree5)"
   ]
  },
  {
   "cell_type": "code",
   "execution_count": null,
   "metadata": {},
   "outputs": [],
   "source": []
  }
 ],
 "metadata": {
  "kernelspec": {
   "display_name": "Python 3",
   "language": "python",
   "name": "python3"
  },
  "language_info": {
   "codemirror_mode": {
    "name": "ipython",
    "version": 3
   },
   "file_extension": ".py",
   "mimetype": "text/x-python",
   "name": "python",
   "nbconvert_exporter": "python",
   "pygments_lexer": "ipython3",
   "version": "3.6.4"
  }
 },
 "nbformat": 4,
 "nbformat_minor": 2
}
