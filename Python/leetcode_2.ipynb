{
 "cells": [
  {
   "cell_type": "markdown",
   "metadata": {},
   "source": [
    "### 258. Add Digits"
   ]
  },
  {
   "cell_type": "code",
   "execution_count": 1,
   "metadata": {},
   "outputs": [
    {
     "data": {
      "text/plain": [
       "['3', '8']"
      ]
     },
     "execution_count": 1,
     "metadata": {},
     "output_type": "execute_result"
    }
   ],
   "source": [
    "a=38\n",
    "list(str(a))"
   ]
  },
  {
   "cell_type": "code",
   "execution_count": 2,
   "metadata": {},
   "outputs": [],
   "source": [
    "def addDigits(num):\n",
    "    while len(list(str(num)))>1:\n",
    "        result=0\n",
    "        for i in list(str(num)):\n",
    "            result+=int(i)\n",
    "        num=result\n",
    "    return num"
   ]
  },
  {
   "cell_type": "code",
   "execution_count": 3,
   "metadata": {},
   "outputs": [
    {
     "data": {
      "text/plain": [
       "2"
      ]
     },
     "execution_count": 3,
     "metadata": {},
     "output_type": "execute_result"
    }
   ],
   "source": [
    "addDigits(38)"
   ]
  },
  {
   "cell_type": "code",
   "execution_count": 4,
   "metadata": {},
   "outputs": [],
   "source": [
    "def isHappy(n):\n",
    "    n_str=list(str(n))\n",
    "    result=0\n",
    "    for i in n_str:\n",
    "        result+=int(i)**2\n",
    "        n=result\n",
    "        if n==1:\n",
    "            break\n",
    "        else:\n",
    "            continue\n",
    "    return n==1"
   ]
  },
  {
   "cell_type": "code",
   "execution_count": 5,
   "metadata": {},
   "outputs": [
    {
     "data": {
      "text/plain": [
       "True"
      ]
     },
     "execution_count": 5,
     "metadata": {},
     "output_type": "execute_result"
    }
   ],
   "source": [
    "isHappy(100)"
   ]
  },
  {
   "cell_type": "markdown",
   "metadata": {},
   "source": [
    "### 14. Longest Common Prefix"
   ]
  },
  {
   "cell_type": "code",
   "execution_count": 6,
   "metadata": {},
   "outputs": [],
   "source": [
    "strs=['flower','flow','flight']"
   ]
  },
  {
   "cell_type": "code",
   "execution_count": 7,
   "metadata": {},
   "outputs": [],
   "source": [
    "def longestCommonPrefix(strs):\n",
    "    common=''\n",
    "    test_str=''\n",
    "    test_list=[]\n",
    "    if strs==[]:\n",
    "        return common\n",
    "    elif strs.count('')>0:\n",
    "        return common\n",
    "    else:\n",
    "        for char in strs[0]:\n",
    "            test_str+=char\n",
    "            test_list.append(test_str)\n",
    "        for test in test_list:\n",
    "            list2=strs.copy()\n",
    "            for i in range(len(list2)):\n",
    "                list2[i]=list2[i].split(test)[0]\n",
    "            if list2.count('')==len(strs):\n",
    "                common=test\n",
    "            else:\n",
    "                break\n",
    "        return common"
   ]
  },
  {
   "cell_type": "code",
   "execution_count": 8,
   "metadata": {},
   "outputs": [],
   "source": [
    "def main():\n",
    "    print(longestCommonPrefix(strs))\n",
    "    print(longestCommonPrefix([]))\n",
    "    print(longestCommonPrefix(['abab','aba','']))\n",
    "    print(longestCommonPrefix(['car','racecar','dog']))"
   ]
  },
  {
   "cell_type": "code",
   "execution_count": 9,
   "metadata": {},
   "outputs": [
    {
     "name": "stdout",
     "output_type": "stream",
     "text": [
      "fl\n",
      "\n",
      "\n",
      "\n"
     ]
    }
   ],
   "source": [
    "main()"
   ]
  },
  {
   "cell_type": "markdown",
   "metadata": {},
   "source": [
    "### 28. Implement strStr()"
   ]
  },
  {
   "cell_type": "code",
   "execution_count": 1,
   "metadata": {},
   "outputs": [],
   "source": [
    "def strStr(haystack,needle):\n",
    "    if needle=='':\n",
    "        return 0\n",
    "    if haystack=='' and needle!='':\n",
    "        return -1\n",
    "    result=haystack.split(needle)\n",
    "    if len(result[0])==len(haystack):\n",
    "        return -1\n",
    "    else:\n",
    "        return len(result[0])"
   ]
  },
  {
   "cell_type": "code",
   "execution_count": 2,
   "metadata": {},
   "outputs": [
    {
     "data": {
      "text/plain": [
       "2"
      ]
     },
     "execution_count": 2,
     "metadata": {},
     "output_type": "execute_result"
    }
   ],
   "source": [
    "strStr('hello','ll')"
   ]
  },
  {
   "cell_type": "code",
   "execution_count": 3,
   "metadata": {},
   "outputs": [
    {
     "data": {
      "text/plain": [
       "-1"
      ]
     },
     "execution_count": 3,
     "metadata": {},
     "output_type": "execute_result"
    }
   ],
   "source": [
    "strStr('aaaaa','bba')"
   ]
  },
  {
   "cell_type": "markdown",
   "metadata": {},
   "source": [
    "### 58. Length of Last Word"
   ]
  },
  {
   "cell_type": "code",
   "execution_count": 13,
   "metadata": {},
   "outputs": [],
   "source": [
    "def lengthOfLastWord(s):\n",
    "    if s=='':\n",
    "        return 0\n",
    "    else:\n",
    "        result=s.split(' ')\n",
    "        listStack=[]\n",
    "        for item in result:\n",
    "            if len(listStack)==0:\n",
    "                listStack.append(item)\n",
    "            if item!='' and len(listStack)!=0:\n",
    "                listStack.pop()\n",
    "                listStack.append(item)\n",
    "        return len(listStack.pop())"
   ]
  },
  {
   "cell_type": "code",
   "execution_count": 14,
   "metadata": {},
   "outputs": [],
   "source": [
    "def main2():\n",
    "    print(lengthOfLastWord('Hello World'))\n",
    "    print(lengthOfLastWord('     '))\n",
    "    print(lengthOfLastWord('a  '))\n",
    "    print(lengthOfLastWord(''))"
   ]
  },
  {
   "cell_type": "code",
   "execution_count": 15,
   "metadata": {},
   "outputs": [
    {
     "name": "stdout",
     "output_type": "stream",
     "text": [
      "5\n",
      "0\n",
      "1\n",
      "0\n"
     ]
    }
   ],
   "source": [
    "main2()"
   ]
  },
  {
   "cell_type": "markdown",
   "metadata": {},
   "source": [
    "### 680. Valid Palindrome II"
   ]
  },
  {
   "cell_type": "code",
   "execution_count": 16,
   "metadata": {},
   "outputs": [],
   "source": [
    "def validPalindrome(s):\n",
    "    if s==s[::-1]:\n",
    "        return True\n",
    "    s_reverse=s[::-1]\n",
    "    for i in range(len(s)//2):\n",
    "        if s[i]!=s_reverse[i]:\n",
    "            temp=s[:i]+s[i+1:]\n",
    "            temp1=s_reverse[:i]+s_reverse[i+1:]\n",
    "            return temp==temp[::-1] or temp1==temp1[::-1]"
   ]
  },
  {
   "cell_type": "code",
   "execution_count": 17,
   "metadata": {},
   "outputs": [],
   "source": [
    "def main3():\n",
    "    print(validPalindrome('abca'))\n",
    "    print(validPalindrome('aba'))\n",
    "    print(validPalindrome('safdacxzvfaaggagafssafsafsafabfhjbkjczbkvxzkvkzvkjbvkbxzzvkjkbzvkvkxzjbkkjjkskajfkjk'))"
   ]
  },
  {
   "cell_type": "code",
   "execution_count": 18,
   "metadata": {},
   "outputs": [
    {
     "name": "stdout",
     "output_type": "stream",
     "text": [
      "True\n",
      "True\n",
      "False\n"
     ]
    }
   ],
   "source": [
    "main3()"
   ]
  },
  {
   "cell_type": "markdown",
   "metadata": {},
   "source": [
    "### 66. Plus One"
   ]
  },
  {
   "cell_type": "code",
   "execution_count": 19,
   "metadata": {},
   "outputs": [],
   "source": [
    "def plusOne(digits):\n",
    "    string=''\n",
    "    for item in digits:\n",
    "        string+=str(item)\n",
    "    result=int(string)+1\n",
    "    result_list=[]\n",
    "    for item in str(result):\n",
    "        result_list.append(int(item))\n",
    "    return result_list"
   ]
  },
  {
   "cell_type": "code",
   "execution_count": 20,
   "metadata": {},
   "outputs": [
    {
     "name": "stdout",
     "output_type": "stream",
     "text": [
      "[1, 2, 4]\n",
      "[2, 0, 0, 0]\n",
      "[4, 3, 2, 2]\n"
     ]
    }
   ],
   "source": [
    "print(plusOne([1,2,3]))\n",
    "print(plusOne([1,9,9,9]))\n",
    "print(plusOne([4,3,2,1]))"
   ]
  },
  {
   "cell_type": "markdown",
   "metadata": {},
   "source": [
    "### 67. Add Binary"
   ]
  },
  {
   "cell_type": "code",
   "execution_count": 21,
   "metadata": {},
   "outputs": [],
   "source": [
    "def addBinary(a,b):\n",
    "    a_reverse=a[::-1]\n",
    "    b_reverse=b[::-1]\n",
    "    int_a=0\n",
    "    int_b=0\n",
    "    for i in range(len(a_reverse)):\n",
    "        int_a+=int(a_reverse[i])*2**i\n",
    "    for j in range(len(b_reverse)):\n",
    "        int_b+=int(b_reverse[j])*2**j\n",
    "    int_result=int_a+int_b\n",
    "    if not int_result:\n",
    "        return '0'\n",
    "    remainderStack=[]\n",
    "    while int_result !=0:\n",
    "        remainderStack.append(int_result%2)\n",
    "        int_result=int_result//2\n",
    "    string=''\n",
    "    for i in range(len(remainderStack)):\n",
    "        string+=str(remainderStack.pop())\n",
    "    return string"
   ]
  },
  {
   "cell_type": "code",
   "execution_count": 22,
   "metadata": {},
   "outputs": [
    {
     "name": "stdout",
     "output_type": "stream",
     "text": [
      "100\n",
      "0\n",
      "11110\n",
      "10101\n"
     ]
    }
   ],
   "source": [
    "print(addBinary('11','1'))\n",
    "print(addBinary('0','0'))\n",
    "print(addBinary('1111','1111'))\n",
    "print(addBinary('1010','1011'))"
   ]
  },
  {
   "cell_type": "code",
   "execution_count": 23,
   "metadata": {},
   "outputs": [],
   "source": [
    "def addBinary2(a,b):\n",
    "    int_result=int(a)+int(b)\n",
    "    int_result=str(int_result)[::-1]\n",
    "    result_list=list(int_result)\n",
    "    result_list.append(0)\n",
    "    for i in range(len(result_list)-1):\n",
    "        if int(result_list[i])>=2:\n",
    "            result_list[i]=int(result_list[i])-2\n",
    "            result_list[i+1]=int(result_list[i+1])+1\n",
    "    string=''\n",
    "    result_list.reverse()\n",
    "    for item in result_list:\n",
    "        string+=str(item)\n",
    "    return str(int(string))"
   ]
  },
  {
   "cell_type": "code",
   "execution_count": 24,
   "metadata": {},
   "outputs": [
    {
     "name": "stdout",
     "output_type": "stream",
     "text": [
      "100\n",
      "0\n",
      "11110\n",
      "10101\n"
     ]
    }
   ],
   "source": [
    "print(addBinary2('11','1'))\n",
    "print(addBinary2('0','0'))\n",
    "print(addBinary2('1111','1111'))\n",
    "print(addBinary2('1010','1011'))"
   ]
  },
  {
   "cell_type": "markdown",
   "metadata": {},
   "source": [
    "### 83. Remove Duplicates from Sorted List"
   ]
  },
  {
   "cell_type": "code",
   "execution_count": 25,
   "metadata": {},
   "outputs": [],
   "source": [
    "class ListNode:\n",
    "    def __init__(self,x):\n",
    "        self.val=x\n",
    "        self.next=None"
   ]
  },
  {
   "cell_type": "code",
   "execution_count": 26,
   "metadata": {},
   "outputs": [],
   "source": [
    "def deleteDuplicates(head):\n",
    "    cur=head\n",
    "    while cur:\n",
    "        while cur.next and cur.val==cur.next.val:\n",
    "            cur.next=cur.next.next\n",
    "        cur=cur.next\n",
    "    return head"
   ]
  },
  {
   "cell_type": "markdown",
   "metadata": {},
   "source": [
    "### 88. Merge Sorted Array"
   ]
  },
  {
   "cell_type": "code",
   "execution_count": 27,
   "metadata": {},
   "outputs": [],
   "source": [
    "def merge(nums1,m,nums2,n):\n",
    "    for i in range(n):\n",
    "        nums1[i+m]=nums2[i]\n",
    "    nums=sorted(nums1)\n",
    "    for j in range(len(nums1)):\n",
    "        nums1[j]=nums[j]\n",
    "    return nums1"
   ]
  },
  {
   "cell_type": "code",
   "execution_count": 28,
   "metadata": {},
   "outputs": [
    {
     "name": "stdout",
     "output_type": "stream",
     "text": [
      "[1, 2, 2, 3, 5, 6]\n"
     ]
    }
   ],
   "source": [
    "print(merge([1,2,3,0,0,0],3,[2,5,6],3))"
   ]
  },
  {
   "cell_type": "markdown",
   "metadata": {},
   "source": [
    "### 125. Valid Palindrome"
   ]
  },
  {
   "cell_type": "code",
   "execution_count": 29,
   "metadata": {},
   "outputs": [],
   "source": [
    "def isPalindrome(s):\n",
    "    if not s:\n",
    "        return True\n",
    "    s=s.lower()\n",
    "    string='abcdefghijklmnopqrstuvwxyz0123456789'\n",
    "    mystring=''\n",
    "    for item in s:\n",
    "        if item in string:\n",
    "            mystring+=item\n",
    "    return mystring==mystring[::-1]"
   ]
  },
  {
   "cell_type": "code",
   "execution_count": 30,
   "metadata": {},
   "outputs": [
    {
     "name": "stdout",
     "output_type": "stream",
     "text": [
      "True\n",
      "False\n",
      "False\n"
     ]
    }
   ],
   "source": [
    "print(isPalindrome(\"A man, a plan, a canal: Panama\"))\n",
    "print(isPalindrome('0P'))\n",
    "print(isPalindrome('race a car'))"
   ]
  },
  {
   "cell_type": "markdown",
   "metadata": {},
   "source": [
    "### 234. Palindrome Linked List"
   ]
  },
  {
   "cell_type": "code",
   "execution_count": 31,
   "metadata": {},
   "outputs": [],
   "source": [
    "def isPalindrome2(head):\n",
    "    current=head\n",
    "    mylist=[]\n",
    "    while current:\n",
    "        mylist.append(current.val)\n",
    "        current=current.next\n",
    "    return mylist==mylist[::-1]"
   ]
  },
  {
   "cell_type": "code",
   "execution_count": null,
   "metadata": {},
   "outputs": [],
   "source": []
  }
 ],
 "metadata": {
  "kernelspec": {
   "display_name": "Python 3",
   "language": "python",
   "name": "python3"
  },
  "language_info": {
   "codemirror_mode": {
    "name": "ipython",
    "version": 3
   },
   "file_extension": ".py",
   "mimetype": "text/x-python",
   "name": "python",
   "nbconvert_exporter": "python",
   "pygments_lexer": "ipython3",
   "version": "3.7.3"
  },
  "latex_envs": {
   "LaTeX_envs_menu_present": true,
   "autoclose": false,
   "autocomplete": true,
   "bibliofile": "biblio.bib",
   "cite_by": "apalike",
   "current_citInitial": 1,
   "eqLabelWithNumbers": true,
   "eqNumInitial": 1,
   "hotkeys": {
    "equation": "Ctrl-E",
    "itemize": "Ctrl-I"
   },
   "labels_anchors": false,
   "latex_user_defs": false,
   "report_style_numbering": false,
   "user_envs_cfg": false
  }
 },
 "nbformat": 4,
 "nbformat_minor": 2
}
