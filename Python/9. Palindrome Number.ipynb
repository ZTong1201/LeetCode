{
 "cells": [
  {
   "cell_type": "markdown",
   "metadata": {},
   "source": [
    "### 9. Palindrome Number"
   ]
  },
  {
   "cell_type": "markdown",
   "metadata": {},
   "source": [
    "Determine whether an integer is a palindrome. An integer is a palindrome when it reads the same backward as forward.\n",
    "\n",
    "#### Follow up:\n",
    "\n",
    "Coud you solve it without converting the integer to a string?"
   ]
  },
  {
   "cell_type": "code",
   "execution_count": 37,
   "metadata": {},
   "outputs": [],
   "source": [
    "# Convert the integer to a string.\n",
    "def isPalindrome1(x):\n",
    "    return str(x)[::-1]==str(x)"
   ]
  },
  {
   "cell_type": "code",
   "execution_count": 38,
   "metadata": {},
   "outputs": [],
   "source": [
    "# Without converting\n",
    "def isPalindrome2(x):\n",
    "    if x<0:\n",
    "        return False\n",
    "    original = x\n",
    "    res = 0\n",
    "    remainder = []\n",
    "    while x!=0:\n",
    "        remainder.append(x%10)\n",
    "        x = x//10\n",
    "    for j in range(len(remainder)):\n",
    "        res += remainder.pop()*(10**j)\n",
    "    return res == original"
   ]
  },
  {
   "cell_type": "code",
   "execution_count": 39,
   "metadata": {},
   "outputs": [],
   "source": [
    "# Use deque\n",
    "from collections import deque\n",
    "def isPalindrome3(x):\n",
    "    if x<0:\n",
    "        return False\n",
    "    dq1 = deque()\n",
    "    while x!=0:\n",
    "        dq1.append(x%10)\n",
    "        x = x//10\n",
    "    while len(dq1)>1:\n",
    "        if dq1.pop()!=dq1.popleft():\n",
    "            return False\n",
    "    return True"
   ]
  },
  {
   "cell_type": "code",
   "execution_count": 40,
   "metadata": {},
   "outputs": [],
   "source": [
    "def main():\n",
    "    print(\"Convert the integer to a string\")\n",
    "    print(isPalindrome1(123))\n",
    "    print(isPalindrome1(121))\n",
    "    print(isPalindrome1(0))\n",
    "    print(isPalindrome1(-10))\n",
    "    print(\"-\"*25)\n",
    "    print(\"Without converting\")\n",
    "    print(isPalindrome2(123))\n",
    "    print(isPalindrome2(121))\n",
    "    print(isPalindrome2(0))\n",
    "    print(isPalindrome2(-10))\n",
    "    print(\"-\"*25)\n",
    "    print(\"Use deque\")\n",
    "    print(isPalindrome3(123))\n",
    "    print(isPalindrome3(121))\n",
    "    print(isPalindrome3(0))\n",
    "    print(isPalindrome3(-10))"
   ]
  },
  {
   "cell_type": "code",
   "execution_count": 41,
   "metadata": {},
   "outputs": [
    {
     "name": "stdout",
     "output_type": "stream",
     "text": [
      "Convert the integer to a string\n",
      "False\n",
      "True\n",
      "True\n",
      "False\n",
      "-------------------------\n",
      "Without converting\n",
      "False\n",
      "True\n",
      "True\n",
      "False\n",
      "-------------------------\n",
      "Use deque\n",
      "False\n",
      "True\n",
      "True\n",
      "False\n"
     ]
    }
   ],
   "source": [
    "if __name__ == \"__main__\":\n",
    "    main()"
   ]
  },
  {
   "cell_type": "code",
   "execution_count": null,
   "metadata": {},
   "outputs": [],
   "source": []
  }
 ],
 "metadata": {
  "kernelspec": {
   "display_name": "Python 3",
   "language": "python",
   "name": "python3"
  },
  "language_info": {
   "codemirror_mode": {
    "name": "ipython",
    "version": 3
   },
   "file_extension": ".py",
   "mimetype": "text/x-python",
   "name": "python",
   "nbconvert_exporter": "python",
   "pygments_lexer": "ipython3",
   "version": "3.6.7"
  },
  "latex_envs": {
   "LaTeX_envs_menu_present": true,
   "autoclose": false,
   "autocomplete": true,
   "bibliofile": "biblio.bib",
   "cite_by": "apalike",
   "current_citInitial": 1,
   "eqLabelWithNumbers": true,
   "eqNumInitial": 1,
   "hotkeys": {
    "equation": "Ctrl-E",
    "itemize": "Ctrl-I"
   },
   "labels_anchors": false,
   "latex_user_defs": false,
   "report_style_numbering": false,
   "user_envs_cfg": false
  }
 },
 "nbformat": 4,
 "nbformat_minor": 2
}
