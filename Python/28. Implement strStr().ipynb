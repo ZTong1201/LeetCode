{
 "cells": [
  {
   "cell_type": "markdown",
   "metadata": {},
   "source": [
    "### 28. Implement strStr()\n",
    "Implement strStr().\n",
    "\n",
    "Return the index of the first occurrence of needle in haystack, or -1 if needle is not part of haystack.\n",
    "\n",
    "Example 1:\n",
    "\n",
    "Input: haystack = \"hello\", needle = \"ll\"\n",
    "<br>\n",
    "Output: 2\n",
    "\n",
    "Example 2:\n",
    "\n",
    "Input: haystack = \"aaaaa\", needle = \"bba\"\n",
    "<br>\n",
    "Output: -1"
   ]
  },
  {
   "cell_type": "code",
   "execution_count": 35,
   "metadata": {},
   "outputs": [],
   "source": [
    "def strStr(haystack: str, needle: str) -> int:\n",
    "    if not needle:\n",
    "        return 0\n",
    "    for i in range(len(haystack)):\n",
    "        if haystack[i] == needle[0]:\n",
    "            if haystack[i:i+len(needle)] == needle:\n",
    "                return i\n",
    "    return -1"
   ]
  },
  {
   "cell_type": "code",
   "execution_count": 36,
   "metadata": {},
   "outputs": [],
   "source": [
    "def strStr2(haystack: str, needle: str) -> int:\n",
    "    if not needle:\n",
    "        return 0\n",
    "    res = haystack.split(needle)\n",
    "    return len(res[0]) if haystack and len(res[0])!=len(haystack) else -1"
   ]
  },
  {
   "cell_type": "code",
   "execution_count": 37,
   "metadata": {},
   "outputs": [],
   "source": [
    "def main():\n",
    "    print(\"Brute Force\")\n",
    "    print(strStr(\"a\",\"\"))\n",
    "    print(strStr(\"aaaaa\",'bba'))\n",
    "    print(strStr(\"hello\",'ll'))\n",
    "    print(strStr(\"\",\" \"))\n",
    "    print(strStr(\"a\",\"a\"))\n",
    "    print(\"-\"*25)\n",
    "    print('Use split()')\n",
    "    print(strStr2(\"a\",\"\"))\n",
    "    print(strStr2(\"aaaaa\",'bba'))\n",
    "    print(strStr2(\"hello\",'ll'))\n",
    "    print(strStr2(\"\",\" \")) # a = \"s\", b = \" \" a.split(b) --> [\"s\"]\n",
    "    print(strStr2(\"a\",\"a\")) # a = \"s\", b = \"s\" a.split(b) --> [\"\", \"\"] two empty string"
   ]
  },
  {
   "cell_type": "code",
   "execution_count": 38,
   "metadata": {},
   "outputs": [
    {
     "name": "stdout",
     "output_type": "stream",
     "text": [
      "Brute Force\n",
      "0\n",
      "-1\n",
      "2\n",
      "-1\n",
      "0\n",
      "-------------------------\n",
      "Use split()\n",
      "0\n",
      "-1\n",
      "2\n",
      "-1\n",
      "0\n"
     ]
    }
   ],
   "source": [
    "if __name__ == \"__main__\":\n",
    "    main()"
   ]
  },
  {
   "cell_type": "code",
   "execution_count": null,
   "metadata": {},
   "outputs": [],
   "source": []
  }
 ],
 "metadata": {
  "kernelspec": {
   "display_name": "Python 3",
   "language": "python",
   "name": "python3"
  },
  "language_info": {
   "codemirror_mode": {
    "name": "ipython",
    "version": 3
   },
   "file_extension": ".py",
   "mimetype": "text/x-python",
   "name": "python",
   "nbconvert_exporter": "python",
   "pygments_lexer": "ipython3",
   "version": "3.7.3"
  },
  "latex_envs": {
   "LaTeX_envs_menu_present": true,
   "autoclose": false,
   "autocomplete": true,
   "bibliofile": "biblio.bib",
   "cite_by": "apalike",
   "current_citInitial": 1,
   "eqLabelWithNumbers": true,
   "eqNumInitial": 1,
   "hotkeys": {
    "equation": "Ctrl-E",
    "itemize": "Ctrl-I"
   },
   "labels_anchors": false,
   "latex_user_defs": false,
   "report_style_numbering": false,
   "user_envs_cfg": false
  }
 },
 "nbformat": 4,
 "nbformat_minor": 2
}
