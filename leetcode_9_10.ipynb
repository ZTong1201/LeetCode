{
 "cells": [
  {
   "cell_type": "markdown",
   "metadata": {},
   "source": [
    "### 38. Count and Say"
   ]
  },
  {
   "cell_type": "code",
   "execution_count": 1,
   "metadata": {},
   "outputs": [],
   "source": [
    "def countAndSay(n):\n",
    "    res=''\n",
    "    if n==1:\n",
    "        return '1'\n",
    "    else:\n",
    "        string=countAndSay(n-1)\n",
    "        i=j=0\n",
    "        while i<len(string) and j<len(string):\n",
    "            if string[i]==string[j]:\n",
    "                j+=1\n",
    "            else:\n",
    "                res+=str(j-i)+string[i]\n",
    "                i=j\n",
    "        res+=str(j-i)+string[i]\n",
    "    return res"
   ]
  },
  {
   "cell_type": "code",
   "execution_count": 2,
   "metadata": {},
   "outputs": [
    {
     "name": "stdout",
     "output_type": "stream",
     "text": [
      "1\n",
      "1211\n",
      "312211\n"
     ]
    }
   ],
   "source": [
    "print(countAndSay(1))\n",
    "print(countAndSay(4))\n",
    "print(countAndSay(6))"
   ]
  },
  {
   "cell_type": "markdown",
   "metadata": {},
   "source": [
    "#### Using itertools groupby"
   ]
  },
  {
   "cell_type": "code",
   "execution_count": 3,
   "metadata": {},
   "outputs": [
    {
     "name": "stdout",
     "output_type": "stream",
     "text": [
      "a\n",
      "['a', 'a']\n",
      "b\n",
      "['b']\n",
      "c\n",
      "['c', 'c']\n"
     ]
    }
   ],
   "source": [
    "s='aabcc'\n",
    "import itertools\n",
    "for digit,group in itertools.groupby(s):\n",
    "    print(digit)\n",
    "    print(list(group))"
   ]
  },
  {
   "cell_type": "code",
   "execution_count": 4,
   "metadata": {},
   "outputs": [],
   "source": [
    "def countAndSay2(n):\n",
    "    s='1'\n",
    "    for i in range(1,n):\n",
    "        v=''\n",
    "        for digit,group in itertools.groupby(s):\n",
    "            v+=str(len(list(group)))+digit\n",
    "        s=v\n",
    "    return s"
   ]
  },
  {
   "cell_type": "code",
   "execution_count": 5,
   "metadata": {},
   "outputs": [
    {
     "name": "stdout",
     "output_type": "stream",
     "text": [
      "1\n",
      "1211\n",
      "312211\n"
     ]
    }
   ],
   "source": [
    "print(countAndSay2(1))\n",
    "print(countAndSay2(4))\n",
    "print(countAndSay2(6))"
   ]
  },
  {
   "cell_type": "markdown",
   "metadata": {},
   "source": [
    "### 104. Maximum Depth of Binary Tree"
   ]
  },
  {
   "cell_type": "code",
   "execution_count": 6,
   "metadata": {},
   "outputs": [],
   "source": [
    "class TreeNode:\n",
    "    def __init__(self, x):\n",
    "        self.val = x\n",
    "        self.left = None\n",
    "        self.right = None\n",
    "    \n",
    "    def insertLeft(self,newNode):\n",
    "        if self.left==None:\n",
    "            self.left=TreeNode(newNode)\n",
    "        else:\n",
    "            t=TreeNode(newNode)\n",
    "            t.left=self.left\n",
    "            self.left=t\n",
    "            \n",
    "    def insertRight(self,newNode):\n",
    "        if self.right==None:\n",
    "            self.right=TreeNode(newNode)\n",
    "        else:\n",
    "            t=TreeNode(newNode)\n",
    "            t.right=self.right\n",
    "            self.right=t"
   ]
  },
  {
   "cell_type": "code",
   "execution_count": 7,
   "metadata": {},
   "outputs": [],
   "source": [
    "tree=TreeNode(3)\n",
    "tree.insertRight(20)\n",
    "tree.right.left=TreeNode(15)\n",
    "tree.right.right=TreeNode(7)\n",
    "tree.insertLeft(9)"
   ]
  },
  {
   "cell_type": "code",
   "execution_count": 8,
   "metadata": {},
   "outputs": [],
   "source": [
    "def printTree(tree):\n",
    "    if tree:\n",
    "        print(tree.val)\n",
    "        printTree(tree.left)\n",
    "        printTree(tree.right)"
   ]
  },
  {
   "cell_type": "code",
   "execution_count": 9,
   "metadata": {},
   "outputs": [
    {
     "name": "stdout",
     "output_type": "stream",
     "text": [
      "3\n",
      "9\n",
      "20\n",
      "15\n",
      "7\n"
     ]
    }
   ],
   "source": [
    "printTree(tree)"
   ]
  },
  {
   "cell_type": "code",
   "execution_count": 10,
   "metadata": {},
   "outputs": [],
   "source": [
    "def maxDepth(root):\n",
    "    if not root:\n",
    "        return 0\n",
    "    leftD=maxDepth(root.left) if root.left else 0\n",
    "    rightD=maxDepth(root.right) if root.right else 0\n",
    "    return max(leftD,rightD)+1"
   ]
  },
  {
   "cell_type": "code",
   "execution_count": 11,
   "metadata": {},
   "outputs": [
    {
     "data": {
      "text/plain": [
       "3"
      ]
     },
     "execution_count": 11,
     "metadata": {},
     "output_type": "execute_result"
    }
   ],
   "source": [
    "maxDepth(tree)"
   ]
  },
  {
   "cell_type": "code",
   "execution_count": null,
   "metadata": {},
   "outputs": [],
   "source": []
  }
 ],
 "metadata": {
  "kernelspec": {
   "display_name": "Python 3",
   "language": "python",
   "name": "python3"
  },
  "language_info": {
   "codemirror_mode": {
    "name": "ipython",
    "version": 3
   },
   "file_extension": ".py",
   "mimetype": "text/x-python",
   "name": "python",
   "nbconvert_exporter": "python",
   "pygments_lexer": "ipython3",
   "version": "3.6.4"
  }
 },
 "nbformat": 4,
 "nbformat_minor": 2
}
