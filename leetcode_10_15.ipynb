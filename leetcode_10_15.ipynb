{
 "cells": [
  {
   "cell_type": "markdown",
   "metadata": {},
   "source": [
    "### 198. House Robber (Dynamic Programming)"
   ]
  },
  {
   "cell_type": "code",
   "execution_count": 10,
   "metadata": {},
   "outputs": [],
   "source": [
    "def rob(nums):\n",
    "    if not nums:\n",
    "        return 0\n",
    "    if len(nums)==1:\n",
    "        return nums[0]\n",
    "    if len(nums)==2:\n",
    "        if nums[0]>nums[1]:\n",
    "            return nums[0]\n",
    "        else:\n",
    "            return nums[1]\n",
    "    dp=[0]*len(nums)\n",
    "    dp[0]=nums[0]\n",
    "    dp[1]=nums[1]\n",
    "    for i in range(2,len(nums)):\n",
    "        dp[i]=max(dp[:i-1])+nums[i]\n",
    "    return max(dp)"
   ]
  },
  {
   "cell_type": "code",
   "execution_count": 11,
   "metadata": {},
   "outputs": [
    {
     "name": "stdout",
     "output_type": "stream",
     "text": [
      "4\n",
      "12\n"
     ]
    }
   ],
   "source": [
    "print(rob([1,2,3,1]))\n",
    "print(rob([2,7,9,3,1]))"
   ]
  },
  {
   "cell_type": "code",
   "execution_count": 12,
   "metadata": {},
   "outputs": [],
   "source": [
    "def rob2(nums):\n",
    "    if not nums:\n",
    "        return 0\n",
    "    if len(nums)>=2:\n",
    "        nums[1]=max(nums[0],nums[1])\n",
    "        for i in range(2,len(nums)):\n",
    "            nums[i]=max(nums[i-1],nums[i-2]+nums[i])\n",
    "    return nums[-1]"
   ]
  },
  {
   "cell_type": "code",
   "execution_count": 13,
   "metadata": {},
   "outputs": [
    {
     "name": "stdout",
     "output_type": "stream",
     "text": [
      "4\n",
      "12\n"
     ]
    }
   ],
   "source": [
    "print(rob2([1,2,3,1]))\n",
    "print(rob2([2,7,9,3,1]))"
   ]
  },
  {
   "cell_type": "markdown",
   "metadata": {},
   "source": [
    "### 11. Container With Most Water (Two Pointers)"
   ]
  },
  {
   "cell_type": "code",
   "execution_count": 14,
   "metadata": {},
   "outputs": [],
   "source": [
    "def maxArea(height):\n",
    "    left,right=0,len(height)-1\n",
    "    max_area=0\n",
    "    while left<right:\n",
    "        res=(right-left)*min(height[left],height[right])\n",
    "        if res>max_area:\n",
    "            max_area=res\n",
    "        if height[left]<height[right]:\n",
    "            left+=1\n",
    "        else:\n",
    "            right-=1\n",
    "    return max_area"
   ]
  },
  {
   "cell_type": "code",
   "execution_count": 15,
   "metadata": {},
   "outputs": [
    {
     "name": "stdout",
     "output_type": "stream",
     "text": [
      "49\n"
     ]
    }
   ],
   "source": [
    "print(maxArea([1,8,6,2,5,4,8,3,7]))"
   ]
  },
  {
   "cell_type": "code",
   "execution_count": null,
   "metadata": {},
   "outputs": [],
   "source": []
  }
 ],
 "metadata": {
  "kernelspec": {
   "display_name": "Python 3",
   "language": "python",
   "name": "python3"
  },
  "language_info": {
   "codemirror_mode": {
    "name": "ipython",
    "version": 3
   },
   "file_extension": ".py",
   "mimetype": "text/x-python",
   "name": "python",
   "nbconvert_exporter": "python",
   "pygments_lexer": "ipython3",
   "version": "3.6.4"
  }
 },
 "nbformat": 4,
 "nbformat_minor": 2
}
