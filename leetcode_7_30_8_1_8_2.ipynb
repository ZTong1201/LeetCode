{
 "cells": [
  {
   "cell_type": "markdown",
   "metadata": {},
   "source": [
    "### 202. Happy Number"
   ]
  },
  {
   "cell_type": "markdown",
   "metadata": {},
   "source": [
    "#### Use Dictionary"
   ]
  },
  {
   "cell_type": "code",
   "execution_count": 54,
   "metadata": {
    "collapsed": true
   },
   "outputs": [],
   "source": [
    "def isHappy(n):\n",
    "    mydict={}\n",
    "    while n!=1:\n",
    "        n=sum([int(x)**2 for x in str(n)])\n",
    "        if n in mydict:\n",
    "            return False\n",
    "        else:\n",
    "            mydict[n]=1\n",
    "    return True"
   ]
  },
  {
   "cell_type": "code",
   "execution_count": 55,
   "metadata": {},
   "outputs": [
    {
     "name": "stdout",
     "output_type": "stream",
     "text": [
      "True\n",
      "False\n"
     ]
    }
   ],
   "source": [
    "print(isHappy(19))\n",
    "print(isHappy(4))"
   ]
  },
  {
   "cell_type": "markdown",
   "metadata": {},
   "source": [
    "#### Use Set (Much Faster)"
   ]
  },
  {
   "cell_type": "code",
   "execution_count": 56,
   "metadata": {
    "collapsed": true
   },
   "outputs": [],
   "source": [
    "def isHappy2(n):\n",
    "    myset=set()\n",
    "    while n!=1:\n",
    "        n=sum([int(x)**2 for x in str(n)])\n",
    "        if n in myset:\n",
    "            return False\n",
    "        else:\n",
    "            myset.add(n)\n",
    "    return True"
   ]
  },
  {
   "cell_type": "code",
   "execution_count": 57,
   "metadata": {},
   "outputs": [
    {
     "name": "stdout",
     "output_type": "stream",
     "text": [
      "True\n",
      "False\n"
     ]
    }
   ],
   "source": [
    "print(isHappy2(19))\n",
    "print(isHappy2(4))"
   ]
  },
  {
   "cell_type": "markdown",
   "metadata": {},
   "source": [
    "### 278. First Bad Version"
   ]
  },
  {
   "cell_type": "code",
   "execution_count": 58,
   "metadata": {
    "collapsed": true
   },
   "outputs": [],
   "source": [
    "def firstBadVersion(n):\n",
    "    left,right=0,n\n",
    "    while left<=right:\n",
    "        middle=(left+right)//2\n",
    "        if isBadVersion(middle):\n",
    "            right=middle-1\n",
    "        else:\n",
    "            left=middle+1\n",
    "    return left"
   ]
  },
  {
   "cell_type": "code",
   "execution_count": 59,
   "metadata": {
    "collapsed": true
   },
   "outputs": [],
   "source": [
    "def isBadVersion(n):\n",
    "    flag=10\n",
    "    if n>=flag:\n",
    "        return True\n",
    "    else:\n",
    "        return False"
   ]
  },
  {
   "cell_type": "code",
   "execution_count": 60,
   "metadata": {},
   "outputs": [
    {
     "name": "stdout",
     "output_type": "stream",
     "text": [
      "10\n"
     ]
    }
   ],
   "source": [
    "print(firstBadVersion(13))"
   ]
  },
  {
   "cell_type": "markdown",
   "metadata": {},
   "source": [
    "### 400. Nth Digit"
   ]
  },
  {
   "cell_type": "code",
   "execution_count": 61,
   "metadata": {
    "collapsed": true
   },
   "outputs": [],
   "source": [
    "def findNthDigit(n):\n",
    "    i=count=9\n",
    "    while count<n:\n",
    "        i*=10\n",
    "        count+=i*len(str(i))\n",
    "    extra=n-(count-i*len(str(i)))\n",
    "    div,mod=divmod(extra,len(str(i)))\n",
    "    if mod==0:\n",
    "        target=i//9-1+div\n",
    "    else:\n",
    "        target=i//9+div\n",
    "    if mod==0:\n",
    "        return int(str(target)[-1])\n",
    "    else:\n",
    "        return int(str(target)[mod-1])"
   ]
  },
  {
   "cell_type": "code",
   "execution_count": 62,
   "metadata": {},
   "outputs": [
    {
     "name": "stdout",
     "output_type": "stream",
     "text": [
      "3\n",
      "0\n",
      "1\n"
     ]
    }
   ],
   "source": [
    "print(findNthDigit(3))\n",
    "print(findNthDigit(11))\n",
    "print(findNthDigit(1000000))"
   ]
  },
  {
   "cell_type": "markdown",
   "metadata": {},
   "source": [
    "### 645. Set Mismatch"
   ]
  },
  {
   "cell_type": "code",
   "execution_count": 63,
   "metadata": {
    "collapsed": true
   },
   "outputs": [],
   "source": [
    "def findErrorNums(nums):\n",
    "    mydict={}\n",
    "    n=len(nums)\n",
    "    for item in nums:\n",
    "        if item in mydict:\n",
    "            dup=item\n",
    "            mydict[item]+=1\n",
    "            break\n",
    "        else:\n",
    "            mydict[item]=1\n",
    "    miss=list(set(x for x in range(1,n+1))-set(nums)).pop()\n",
    "    return [dup,miss]"
   ]
  },
  {
   "cell_type": "code",
   "execution_count": 64,
   "metadata": {},
   "outputs": [
    {
     "name": "stdout",
     "output_type": "stream",
     "text": [
      "[2, 3]\n"
     ]
    }
   ],
   "source": [
    "print(findErrorNums([1,2,2,4]))"
   ]
  },
  {
   "cell_type": "code",
   "execution_count": 65,
   "metadata": {
    "collapsed": true
   },
   "outputs": [],
   "source": [
    "def findErrorNums2(nums):\n",
    "    mydict={}\n",
    "    n=len(nums)\n",
    "    for item in nums:\n",
    "        if item in mydict:\n",
    "            dup=item\n",
    "            break\n",
    "        else:\n",
    "            mydict[item]=1\n",
    "    diff=sum([x for x in range(1,n+1)])-sum(nums)\n",
    "    return [dup,dup+diff]"
   ]
  },
  {
   "cell_type": "code",
   "execution_count": 66,
   "metadata": {},
   "outputs": [
    {
     "name": "stdout",
     "output_type": "stream",
     "text": [
      "[2, 3]\n"
     ]
    }
   ],
   "source": [
    "print(findErrorNums2([1,2,2,4]))"
   ]
  },
  {
   "cell_type": "markdown",
   "metadata": {},
   "source": [
    "### 287. Find the Duplicate Number"
   ]
  },
  {
   "cell_type": "code",
   "execution_count": 67,
   "metadata": {
    "collapsed": true
   },
   "outputs": [],
   "source": [
    "def findDuplicate(nums):\n",
    "    myset=set()\n",
    "    for num in nums:\n",
    "        if num in myset:\n",
    "            return num\n",
    "        else:\n",
    "            myset.add(num)"
   ]
  },
  {
   "cell_type": "code",
   "execution_count": 68,
   "metadata": {},
   "outputs": [
    {
     "name": "stdout",
     "output_type": "stream",
     "text": [
      "2\n"
     ]
    }
   ],
   "source": [
    "print(findDuplicate([1,2,3,4,2]))"
   ]
  },
  {
   "cell_type": "code",
   "execution_count": 69,
   "metadata": {
    "collapsed": true
   },
   "outputs": [],
   "source": [
    "def findDuplicate2(nums):\n",
    "    nums=sorted(nums)\n",
    "    for i in range(len(nums)-1):\n",
    "        if nums[i]==nums[i+1]:\n",
    "            return nums[i]"
   ]
  },
  {
   "cell_type": "code",
   "execution_count": 70,
   "metadata": {},
   "outputs": [
    {
     "name": "stdout",
     "output_type": "stream",
     "text": [
      "2\n"
     ]
    }
   ],
   "source": [
    "print(findDuplicate2([1,2,3,4,2]))"
   ]
  },
  {
   "cell_type": "markdown",
   "metadata": {},
   "source": [
    "#### Binary Search Method"
   ]
  },
  {
   "cell_type": "code",
   "execution_count": 71,
   "metadata": {
    "collapsed": true
   },
   "outputs": [],
   "source": [
    "def findDuplicate3(nums):\n",
    "    left,right=1,len(nums)-1\n",
    "    while left<=right:\n",
    "        count=0\n",
    "        mid=(left+right)//2\n",
    "        for num in nums:\n",
    "            if num<=mid:\n",
    "                count+=1\n",
    "        if count<=mid:\n",
    "            left+=1\n",
    "        else:\n",
    "            right-=1\n",
    "    return left"
   ]
  },
  {
   "cell_type": "code",
   "execution_count": 72,
   "metadata": {},
   "outputs": [
    {
     "name": "stdout",
     "output_type": "stream",
     "text": [
      "2\n",
      "6\n"
     ]
    }
   ],
   "source": [
    "print(findDuplicate3([1,2,3,4,2]))\n",
    "print(findDuplicate3([1,5,3,4,6,6,2]))"
   ]
  },
  {
   "cell_type": "markdown",
   "metadata": {},
   "source": [
    "### 142. Linked List Cycle II"
   ]
  },
  {
   "cell_type": "markdown",
   "metadata": {},
   "source": [
    "#### Hash Table"
   ]
  },
  {
   "cell_type": "code",
   "execution_count": 73,
   "metadata": {
    "collapsed": true
   },
   "outputs": [],
   "source": [
    "def detectCycle(head):\n",
    "    if not head or not head.next:\n",
    "        return None\n",
    "    mydict={}\n",
    "    while head:\n",
    "        if head in mydict:\n",
    "            return head\n",
    "        else:\n",
    "            mydict[head]=1\n",
    "        head=head.next"
   ]
  },
  {
   "cell_type": "markdown",
   "metadata": {},
   "source": [
    "#### Without Extra Space (Two Pointers)"
   ]
  },
  {
   "cell_type": "code",
   "execution_count": 74,
   "metadata": {
    "collapsed": true
   },
   "outputs": [],
   "source": [
    "def detectCycle2(head):\n",
    "    if not head or not head.next:\n",
    "        return None\n",
    "    fast=head.next\n",
    "    slow=head\n",
    "    while slow!=fast:\n",
    "        if not fast or not fast.next:\n",
    "            return None\n",
    "        else:\n",
    "            fast=fast.next.next\n",
    "            slow=slow.next\n",
    "    slow=slow.next\n",
    "    while head!=slow:\n",
    "        head=head.next\n",
    "        slow=slow.next\n",
    "    return head"
   ]
  },
  {
   "cell_type": "code",
   "execution_count": null,
   "metadata": {
    "collapsed": true
   },
   "outputs": [],
   "source": []
  }
 ],
 "metadata": {
  "kernelspec": {
   "display_name": "Python 3",
   "language": "python",
   "name": "python3"
  },
  "language_info": {
   "codemirror_mode": {
    "name": "ipython",
    "version": 3
   },
   "file_extension": ".py",
   "mimetype": "text/x-python",
   "name": "python",
   "nbconvert_exporter": "python",
   "pygments_lexer": "ipython3",
   "version": "3.6.1"
  }
 },
 "nbformat": 4,
 "nbformat_minor": 2
}
