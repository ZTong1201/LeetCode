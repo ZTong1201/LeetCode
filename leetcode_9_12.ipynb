{
 "cells": [
  {
   "cell_type": "code",
   "execution_count": 1,
   "metadata": {},
   "outputs": [],
   "source": [
    "class TreeNode:\n",
    "    def __init__(self, x):\n",
    "        self.val = x\n",
    "        self.left = None\n",
    "        self.right = None\n",
    "    \n",
    "    def insertLeft(self,newNode):\n",
    "        if self.left==None:\n",
    "            self.left=TreeNode(newNode)\n",
    "        else:\n",
    "            t=TreeNode(newNode)\n",
    "            t.left=self.left\n",
    "            self.left=t\n",
    "            \n",
    "    def insertRight(self,newNode):\n",
    "        if self.right==None:\n",
    "            self.right=TreeNode(newNode)\n",
    "        else:\n",
    "            t=TreeNode(newNode)\n",
    "            t.right=self.right\n",
    "            self.right=t"
   ]
  },
  {
   "cell_type": "code",
   "execution_count": 2,
   "metadata": {},
   "outputs": [],
   "source": [
    "tree=TreeNode(3)\n",
    "tree.insertRight(20)\n",
    "tree.right.left=TreeNode(15)\n",
    "tree.right.right=TreeNode(7)\n",
    "tree.insertLeft(9)"
   ]
  },
  {
   "cell_type": "code",
   "execution_count": 3,
   "metadata": {},
   "outputs": [
    {
     "name": "stdout",
     "output_type": "stream",
     "text": [
      "3\n",
      "9\n",
      "20\n",
      "15\n",
      "7\n"
     ]
    }
   ],
   "source": [
    "def printTree(tree):\n",
    "    if tree:\n",
    "        print(tree.val)\n",
    "        printTree(tree.left)\n",
    "        printTree(tree.right)\n",
    "printTree(tree)"
   ]
  },
  {
   "cell_type": "markdown",
   "metadata": {},
   "source": [
    "### 111. Minimum Depth of Binary Tree"
   ]
  },
  {
   "cell_type": "code",
   "execution_count": 4,
   "metadata": {},
   "outputs": [],
   "source": [
    "def minDepth(root):\n",
    "    if not root:\n",
    "        return 0\n",
    "    leftD=minDepth(root.left) if root.left else 0\n",
    "    rightD=minDepth(root.right) if root.right else 0\n",
    "    if root.left and root.right:\n",
    "        return min(leftD,rightD)+1\n",
    "    else:\n",
    "        return max(leftD,rightD)+1"
   ]
  },
  {
   "cell_type": "code",
   "execution_count": 5,
   "metadata": {},
   "outputs": [
    {
     "data": {
      "text/plain": [
       "2"
      ]
     },
     "execution_count": 5,
     "metadata": {},
     "output_type": "execute_result"
    }
   ],
   "source": [
    "minDepth(tree)"
   ]
  },
  {
   "cell_type": "code",
   "execution_count": 6,
   "metadata": {},
   "outputs": [],
   "source": [
    "def minDepth2(root):\n",
    "    if not root:\n",
    "        return 0\n",
    "    elif not root.left:\n",
    "        return 1+minDepth2(root.right)\n",
    "    elif not root.right:\n",
    "        return 1+minDepth2(root.left)\n",
    "    else:\n",
    "        leftD=minDepth2(root.left) if root.left else 0\n",
    "        rightD=minDepth2(root.right) if root.right else 0\n",
    "        return min(leftD,rightD)+1"
   ]
  },
  {
   "cell_type": "code",
   "execution_count": 7,
   "metadata": {},
   "outputs": [
    {
     "data": {
      "text/plain": [
       "2"
      ]
     },
     "execution_count": 7,
     "metadata": {},
     "output_type": "execute_result"
    }
   ],
   "source": [
    "minDepth2(tree)"
   ]
  },
  {
   "cell_type": "markdown",
   "metadata": {},
   "source": [
    "### 100. Same Tree"
   ]
  },
  {
   "cell_type": "code",
   "execution_count": 8,
   "metadata": {},
   "outputs": [],
   "source": [
    "def isSameTree(p,q):\n",
    "    if not p and not q:\n",
    "        return True\n",
    "    if not p or not q:\n",
    "        return False\n",
    "    left=isSameTree(p.left,q.left)\n",
    "    right=isSameTree(p.right,q.right)\n",
    "    if p.val!=q.val:\n",
    "        return False\n",
    "    return left and right"
   ]
  },
  {
   "cell_type": "code",
   "execution_count": 9,
   "metadata": {},
   "outputs": [],
   "source": [
    "tree1=TreeNode(1)\n",
    "tree1.insertLeft(2)\n",
    "tree1.insertRight(3)"
   ]
  },
  {
   "cell_type": "code",
   "execution_count": 10,
   "metadata": {},
   "outputs": [],
   "source": [
    "tree2=TreeNode(1)\n",
    "tree2.insertLeft(2)\n",
    "tree2.insertRight(3)"
   ]
  },
  {
   "cell_type": "code",
   "execution_count": 11,
   "metadata": {},
   "outputs": [
    {
     "data": {
      "text/plain": [
       "True"
      ]
     },
     "execution_count": 11,
     "metadata": {},
     "output_type": "execute_result"
    }
   ],
   "source": [
    "isSameTree(tree1,tree2)"
   ]
  },
  {
   "cell_type": "code",
   "execution_count": 12,
   "metadata": {},
   "outputs": [],
   "source": [
    "tree3=TreeNode(1)\n",
    "tree3.insertLeft(2)"
   ]
  },
  {
   "cell_type": "code",
   "execution_count": 13,
   "metadata": {},
   "outputs": [],
   "source": [
    "tree4=TreeNode(1)\n",
    "tree4.insertRight(2)"
   ]
  },
  {
   "cell_type": "code",
   "execution_count": 14,
   "metadata": {},
   "outputs": [
    {
     "data": {
      "text/plain": [
       "False"
      ]
     },
     "execution_count": 14,
     "metadata": {},
     "output_type": "execute_result"
    }
   ],
   "source": [
    "isSameTree(tree3,tree4)"
   ]
  },
  {
   "cell_type": "markdown",
   "metadata": {},
   "source": [
    "### 671. Second Minimum Node In a Binary Tree"
   ]
  },
  {
   "cell_type": "code",
   "execution_count": 15,
   "metadata": {},
   "outputs": [],
   "source": [
    "def findSecondMinimumValue(root):\n",
    "    def preorder(tree):\n",
    "        if tree:\n",
    "            mylist.append(tree.val)\n",
    "            preorder(tree.left)\n",
    "            preorder(tree.right)\n",
    "    \n",
    "    mylist=[]\n",
    "    preorder(root)\n",
    "    tree_list=sorted(set(mylist))\n",
    "    if len(tree_list)==1:\n",
    "        return -1\n",
    "    else:\n",
    "        return tree_list[1]"
   ]
  },
  {
   "cell_type": "code",
   "execution_count": 16,
   "metadata": {},
   "outputs": [
    {
     "data": {
      "text/plain": [
       "2"
      ]
     },
     "execution_count": 16,
     "metadata": {},
     "output_type": "execute_result"
    }
   ],
   "source": [
    "findSecondMinimumValue(tree1)"
   ]
  },
  {
   "cell_type": "code",
   "execution_count": 17,
   "metadata": {},
   "outputs": [],
   "source": [
    "class Solution:\n",
    "    def findSecondMinimumValue2(self,root):\n",
    "        init_val=root.val\n",
    "        self.res=float('inf')\n",
    "        def preorder(tree):\n",
    "            if init_val<tree.val<self.res:\n",
    "                self.res=tree.val\n",
    "            elif init_val==tree.val:\n",
    "                preorder(tree.left)\n",
    "                preorder(tree.right)\n",
    "        preorder(root)\n",
    "        return self.res if self.res<float('inf') else -1"
   ]
  },
  {
   "cell_type": "code",
   "execution_count": 18,
   "metadata": {},
   "outputs": [
    {
     "data": {
      "text/plain": [
       "2"
      ]
     },
     "execution_count": 18,
     "metadata": {},
     "output_type": "execute_result"
    }
   ],
   "source": [
    "solution=Solution()\n",
    "solution.findSecondMinimumValue2(tree1)"
   ]
  },
  {
   "cell_type": "markdown",
   "metadata": {},
   "source": [
    "### 102. Binary Tree Level Order Traversal"
   ]
  },
  {
   "cell_type": "code",
   "execution_count": 19,
   "metadata": {},
   "outputs": [],
   "source": [
    "test1=TreeNode(1)\n",
    "test1.insertLeft(4)\n",
    "test1.insertRight(5)\n",
    "test1.insertLeft(2)\n",
    "test1.insertRight(3)"
   ]
  },
  {
   "cell_type": "code",
   "execution_count": 20,
   "metadata": {},
   "outputs": [
    {
     "name": "stdout",
     "output_type": "stream",
     "text": [
      "1\n",
      "2\n",
      "4\n",
      "3\n",
      "5\n"
     ]
    }
   ],
   "source": [
    "def printTree(tree):\n",
    "    if tree:\n",
    "        print(tree.val)\n",
    "        printTree(tree.left)\n",
    "        printTree(tree.right)\n",
    "printTree(test1)"
   ]
  },
  {
   "cell_type": "code",
   "execution_count": 21,
   "metadata": {},
   "outputs": [],
   "source": [
    "def levelOrder(root):\n",
    "    if not root:\n",
    "        return []\n",
    "    output=[]\n",
    "    output.append([root.val])\n",
    "    queue=[]\n",
    "    queue.append(root)\n",
    "    while queue:\n",
    "        level_length=len(queue)\n",
    "        level=[]\n",
    "        while level_length>0:\n",
    "            node=queue.pop(0)\n",
    "            if node.left:\n",
    "                level.append(node.left.val)\n",
    "                queue.append(node.left)\n",
    "            if node.right:\n",
    "                level.append(node.right.val)\n",
    "                queue.append(node.right)\n",
    "            level_length-=1\n",
    "        if level:\n",
    "            output.append(level)\n",
    "    return output"
   ]
  },
  {
   "cell_type": "code",
   "execution_count": 22,
   "metadata": {},
   "outputs": [
    {
     "name": "stdout",
     "output_type": "stream",
     "text": [
      "[[1], [2, 3], [4, 5]]\n",
      "[[3], [9, 20], [15, 7]]\n"
     ]
    }
   ],
   "source": [
    "print(levelOrder(test1))\n",
    "print(levelOrder(tree))"
   ]
  },
  {
   "cell_type": "markdown",
   "metadata": {},
   "source": [
    "### 107. Binary Tree Level Order Traversal II"
   ]
  },
  {
   "cell_type": "code",
   "execution_count": 23,
   "metadata": {},
   "outputs": [],
   "source": [
    "def levelOrderBottom(root):\n",
    "    res=[]\n",
    "    res.append([root.val])\n",
    "    queue=[]\n",
    "    queue.append(root)\n",
    "    while queue:\n",
    "        level_length=len(queue)\n",
    "        level=[]\n",
    "        while level_length>0:\n",
    "            node=queue.pop(0)\n",
    "            if node.left:\n",
    "                level.append(node.left.val)\n",
    "                queue.append(node.left)\n",
    "            if node.right:\n",
    "                level.append(node.right.val)\n",
    "                queue.append(node.right)\n",
    "            level_length-=1\n",
    "        if level:\n",
    "            res.insert(0,level)\n",
    "    return res"
   ]
  },
  {
   "cell_type": "code",
   "execution_count": 24,
   "metadata": {},
   "outputs": [
    {
     "name": "stdout",
     "output_type": "stream",
     "text": [
      "[[4, 5], [2, 3], [1]]\n",
      "[[15, 7], [9, 20], [3]]\n"
     ]
    }
   ],
   "source": [
    "print(levelOrderBottom(test1))\n",
    "print(levelOrderBottom(tree))"
   ]
  },
  {
   "cell_type": "code",
   "execution_count": null,
   "metadata": {},
   "outputs": [],
   "source": []
  }
 ],
 "metadata": {
  "kernelspec": {
   "display_name": "Python 3",
   "language": "python",
   "name": "python3"
  },
  "language_info": {
   "codemirror_mode": {
    "name": "ipython",
    "version": 3
   },
   "file_extension": ".py",
   "mimetype": "text/x-python",
   "name": "python",
   "nbconvert_exporter": "python",
   "pygments_lexer": "ipython3",
   "version": "3.6.4"
  }
 },
 "nbformat": 4,
 "nbformat_minor": 2
}
