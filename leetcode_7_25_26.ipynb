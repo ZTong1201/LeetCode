{
 "cells": [
  {
   "cell_type": "markdown",
   "metadata": {},
   "source": [
    "### 409. Longest Palindrome"
   ]
  },
  {
   "cell_type": "code",
   "execution_count": 149,
   "metadata": {
    "collapsed": true
   },
   "outputs": [],
   "source": [
    "def longestPalindrome(s):\n",
    "    mydict={}\n",
    "    for char in s:\n",
    "        if char in mydict:\n",
    "            mydict[char]+=1\n",
    "        else:\n",
    "            mydict[char]=1\n",
    "    value=0\n",
    "    for item in mydict:\n",
    "        if mydict[item]%2==0:\n",
    "            value+=mydict[item]\n",
    "        else:\n",
    "            value+=mydict[item]-1\n",
    "    if value==len(s):\n",
    "        return value\n",
    "    else:\n",
    "        return value+1"
   ]
  },
  {
   "cell_type": "code",
   "execution_count": 150,
   "metadata": {},
   "outputs": [
    {
     "name": "stdout",
     "output_type": "stream",
     "text": [
      "7\n"
     ]
    }
   ],
   "source": [
    "print(longestPalindrome(\"abccccdd\"))"
   ]
  },
  {
   "cell_type": "markdown",
   "metadata": {},
   "source": [
    "### 412. Fizz Buzz"
   ]
  },
  {
   "cell_type": "code",
   "execution_count": 151,
   "metadata": {
    "collapsed": true
   },
   "outputs": [],
   "source": [
    "def fizzBuzz(n):\n",
    "    three=n//3\n",
    "    five=n//5\n",
    "    three_and_five=n//15\n",
    "    result=[str(x) for x in range(1,n+1)]\n",
    "    if n>=3:\n",
    "        result[2::3]=['Fizz']*three\n",
    "    if n>=5:\n",
    "        result[4::5]=['Buzz']*five\n",
    "    if n>=15:\n",
    "        result[14::15]=['FizzBuzz'*three_and_five]\n",
    "    return result"
   ]
  },
  {
   "cell_type": "code",
   "execution_count": 152,
   "metadata": {},
   "outputs": [
    {
     "name": "stdout",
     "output_type": "stream",
     "text": [
      "['1', '2', 'Fizz', '4', 'Buzz', 'Fizz', '7', '8', 'Fizz', 'Buzz', '11', 'Fizz', '13', '14', 'FizzBuzz']\n",
      "['1']\n",
      "['1', '2', 'Fizz']\n"
     ]
    }
   ],
   "source": [
    "print(fizzBuzz(15))\n",
    "print(fizzBuzz(1))\n",
    "print(fizzBuzz(3))"
   ]
  },
  {
   "cell_type": "markdown",
   "metadata": {},
   "source": [
    "### 414. Third Maximum Number"
   ]
  },
  {
   "cell_type": "code",
   "execution_count": 153,
   "metadata": {
    "collapsed": true
   },
   "outputs": [],
   "source": [
    "def thirdMax(nums):\n",
    "    newnums=[x for x in set(nums)]\n",
    "    newnums=sorted(newnums)[::-1]\n",
    "    if len(newnums)<3:\n",
    "        return newnums[0]\n",
    "    return newnums[2]"
   ]
  },
  {
   "cell_type": "code",
   "execution_count": 154,
   "metadata": {},
   "outputs": [
    {
     "name": "stdout",
     "output_type": "stream",
     "text": [
      "1\n",
      "1\n",
      "2\n"
     ]
    }
   ],
   "source": [
    "print(thirdMax([3,2,1]))\n",
    "print(thirdMax([3,2,2,1]))\n",
    "print(thirdMax([2,1]))"
   ]
  },
  {
   "cell_type": "markdown",
   "metadata": {},
   "source": [
    "### 415. Add Strings"
   ]
  },
  {
   "cell_type": "code",
   "execution_count": 155,
   "metadata": {
    "collapsed": true
   },
   "outputs": [],
   "source": [
    "def addStrings(num1, num2):\n",
    "    len1=len(num1)\n",
    "    len2=len(num2)\n",
    "    reverse_num1=list(num1)[::-1]\n",
    "    reverse_num2=list(num2)[::-1]\n",
    "    if len1>len2:\n",
    "        stringlist=[0]*(len1+1)\n",
    "        for i in range(len2):\n",
    "            if stringlist[i]+int(reverse_num1[i])+int(reverse_num2[i])<10:\n",
    "                stringlist[i]+=int(reverse_num1[i])+int(reverse_num2[i])\n",
    "            else:\n",
    "                stringlist[i]+=int(reverse_num1[i])+int(reverse_num2[i])-10\n",
    "                stringlist[i+1]=1\n",
    "        for i in range(len2,len1):\n",
    "            if stringlist[i]+int(reverse_num1[i])<10:\n",
    "                stringlist[i]+=int(reverse_num1[i])\n",
    "            else:\n",
    "                stringlist[i]+=int(reverse_num1[i])-10\n",
    "                stringlist[i+1]=1\n",
    "        if stringlist[len1]==0:\n",
    "            stringlist.pop()\n",
    "    elif len1<len2:\n",
    "        stringlist=[0]*(len2+1)\n",
    "        for i in range(len1):\n",
    "            if stringlist[i]+int(reverse_num1[i])+int(reverse_num2[i])<10:\n",
    "                stringlist[i]+=int(reverse_num1[i])+int(reverse_num2[i])\n",
    "            else:\n",
    "                stringlist[i]+=int(reverse_num1[i])+int(reverse_num2[i])-10\n",
    "                stringlist[i+1]=1\n",
    "        for i in range(len1,len2):\n",
    "            if stringlist[i]+int(reverse_num2[i])<10:\n",
    "                stringlist[i]+=int(reverse_num2[i])\n",
    "            else:\n",
    "                stringlist[i]+=int(reverse_num2[i])-10\n",
    "                stringlist[i+1]=1\n",
    "        if stringlist[len2]==0:\n",
    "            stringlist.pop()\n",
    "    else:\n",
    "        stringlist=[0]*(len1+1)\n",
    "        for i in range(len1):\n",
    "            if stringlist[i]+int(reverse_num1[i])+int(reverse_num2[i])<10:\n",
    "                stringlist[i]+=int(reverse_num1[i])+int(reverse_num2[i])\n",
    "            else:\n",
    "                stringlist[i]+=int(reverse_num1[i])+int(reverse_num2[i])-10\n",
    "                stringlist[i+1]=1\n",
    "        if stringlist[len1]==0:\n",
    "            stringlist.pop()\n",
    "    string=''\n",
    "    while stringlist:\n",
    "        string+=str(stringlist.pop())\n",
    "    return string"
   ]
  },
  {
   "cell_type": "code",
   "execution_count": 156,
   "metadata": {},
   "outputs": [
    {
     "name": "stdout",
     "output_type": "stream",
     "text": [
      "0\n",
      "602\n"
     ]
    }
   ],
   "source": [
    "print(addStrings('0','0'))\n",
    "print(addStrings('584','18'))"
   ]
  },
  {
   "cell_type": "markdown",
   "metadata": {},
   "source": [
    "### 448. Find All Numbers Disappeared in an Array"
   ]
  },
  {
   "cell_type": "markdown",
   "metadata": {},
   "source": [
    "#### Use extra space"
   ]
  },
  {
   "cell_type": "code",
   "execution_count": 157,
   "metadata": {
    "collapsed": true
   },
   "outputs": [],
   "source": [
    "def findDisappearedNumbers(nums):\n",
    "    return list(set(x for x in range(1,len(nums)+1))-set(nums))"
   ]
  },
  {
   "cell_type": "code",
   "execution_count": 158,
   "metadata": {},
   "outputs": [
    {
     "name": "stdout",
     "output_type": "stream",
     "text": [
      "[5, 6]\n"
     ]
    }
   ],
   "source": [
    "print(findDisappearedNumbers([1,4,3,7,8,2,3,2]))"
   ]
  },
  {
   "cell_type": "markdown",
   "metadata": {},
   "source": [
    "#### Without use extra space"
   ]
  },
  {
   "cell_type": "code",
   "execution_count": 159,
   "metadata": {
    "collapsed": true
   },
   "outputs": [],
   "source": [
    "def findDisappearedNumbers2(nums):\n",
    "    result=[]\n",
    "    for i in range(len(nums)):\n",
    "        if nums[abs(nums[i])-1]>=0:\n",
    "            nums[abs(nums[i])-1]=-nums[abs(nums[i])-1]\n",
    "    for i in range(len(nums)):\n",
    "        if nums[i]>0:\n",
    "            result.append(i+1)\n",
    "    return result"
   ]
  },
  {
   "cell_type": "code",
   "execution_count": 160,
   "metadata": {},
   "outputs": [
    {
     "name": "stdout",
     "output_type": "stream",
     "text": [
      "[5, 6]\n"
     ]
    }
   ],
   "source": [
    "print(findDisappearedNumbers2([1,4,3,7,8,2,3,2]))"
   ]
  },
  {
   "cell_type": "markdown",
   "metadata": {},
   "source": [
    "### 443. String Compression"
   ]
  },
  {
   "cell_type": "code",
   "execution_count": 161,
   "metadata": {},
   "outputs": [],
   "source": [
    "def compress(chars):\n",
    "    if len(chars)==1:\n",
    "        return 1\n",
    "    string=''\n",
    "    count=1\n",
    "    for i in range(len(chars)-1):\n",
    "        if chars[i+1]==chars[i]:\n",
    "            count+=1\n",
    "        elif chars[i+1]!=chars[i] and count>1:\n",
    "            string+=chars[i]\n",
    "            string+=str(count)\n",
    "            count=1\n",
    "        else:\n",
    "            string+=chars[i]\n",
    "        if i==(len(chars)-2):\n",
    "            if count>1:\n",
    "                string+=chars[i+1]\n",
    "                string+=str(count)\n",
    "            else:\n",
    "                string+=chars[i+1]\n",
    "    for j in range(len(string)):\n",
    "        chars[j]=string[j]\n",
    "    return len(string)"
   ]
  },
  {
   "cell_type": "code",
   "execution_count": 162,
   "metadata": {},
   "outputs": [
    {
     "name": "stdout",
     "output_type": "stream",
     "text": [
      "6\n",
      "a\n",
      "2\n",
      "b\n",
      "2\n",
      "c\n",
      "3\n"
     ]
    }
   ],
   "source": [
    "list1=[\"a\",\"a\",\"b\",\"b\",\"c\",\"c\",\"c\"]\n",
    "print(compress(list1))\n",
    "for i in range(6):\n",
    "    print(list1[i])"
   ]
  },
  {
   "cell_type": "code",
   "execution_count": 163,
   "metadata": {},
   "outputs": [
    {
     "name": "stdout",
     "output_type": "stream",
     "text": [
      "1\n",
      "a\n"
     ]
    }
   ],
   "source": [
    "list2=[\"a\"]\n",
    "print(compress(list2))\n",
    "for i in range(1):\n",
    "    print(list2[i])"
   ]
  },
  {
   "cell_type": "code",
   "execution_count": 164,
   "metadata": {},
   "outputs": [
    {
     "name": "stdout",
     "output_type": "stream",
     "text": [
      "4\n",
      "a\n",
      "b\n",
      "1\n",
      "2\n"
     ]
    }
   ],
   "source": [
    "list3=[\"a\",\"b\",\"b\",\"b\",\"b\",\"b\",\"b\",\"b\",\"b\",\"b\",\"b\",\"b\",\"b\"]\n",
    "print(compress(list3))\n",
    "for i in range(4):\n",
    "    print(list3[i])"
   ]
  },
  {
   "cell_type": "markdown",
   "metadata": {},
   "source": [
    "### 434. Number of Segments in a String"
   ]
  },
  {
   "cell_type": "markdown",
   "metadata": {},
   "source": [
    "#### Use split"
   ]
  },
  {
   "cell_type": "code",
   "execution_count": 165,
   "metadata": {
    "collapsed": true
   },
   "outputs": [],
   "source": [
    "def countSegments(s):\n",
    "    mylist=s.split()\n",
    "    return len(mylist)"
   ]
  },
  {
   "cell_type": "code",
   "execution_count": 166,
   "metadata": {},
   "outputs": [
    {
     "name": "stdout",
     "output_type": "stream",
     "text": [
      "5\n"
     ]
    }
   ],
   "source": [
    "print(countSegments(\"Hello, my name is John\"))"
   ]
  },
  {
   "cell_type": "code",
   "execution_count": 167,
   "metadata": {
    "collapsed": true
   },
   "outputs": [],
   "source": [
    "def countSegments2(s):\n",
    "    count=0\n",
    "    word_length=0\n",
    "    for char in s:\n",
    "        if char!=' ':\n",
    "            word_length+=1\n",
    "        if char==' ' and word_length>0:\n",
    "            count+=1\n",
    "    if not s:\n",
    "        return 0\n",
    "    if word_length==0:\n",
    "        return count\n",
    "    else:\n",
    "        return count+1"
   ]
  },
  {
   "cell_type": "code",
   "execution_count": 168,
   "metadata": {},
   "outputs": [
    {
     "name": "stdout",
     "output_type": "stream",
     "text": [
      "5\n"
     ]
    }
   ],
   "source": [
    "print(countSegments2(\"Hello, my name is John\"))"
   ]
  },
  {
   "cell_type": "markdown",
   "metadata": {},
   "source": [
    "### 520. Detect Capital"
   ]
  },
  {
   "cell_type": "code",
   "execution_count": 169,
   "metadata": {},
   "outputs": [],
   "source": [
    "def detectCapitalUse(word):\n",
    "    if word.upper()==word or word.lower()==word:\n",
    "        return True\n",
    "    elif word[0]==word[0].upper() and word[1:]==word[1:].lower():\n",
    "        return True\n",
    "    else:\n",
    "        return False"
   ]
  },
  {
   "cell_type": "code",
   "execution_count": 170,
   "metadata": {},
   "outputs": [
    {
     "name": "stdout",
     "output_type": "stream",
     "text": [
      "True\n",
      "True\n",
      "True\n",
      "False\n"
     ]
    }
   ],
   "source": [
    "print(detectCapitalUse('USA'))\n",
    "print(detectCapitalUse('Google'))\n",
    "print(detectCapitalUse('Leetcode'))\n",
    "print(detectCapitalUse('FlaG'))"
   ]
  },
  {
   "cell_type": "code",
   "execution_count": 171,
   "metadata": {
    "collapsed": true
   },
   "outputs": [],
   "source": [
    "def detectCapitalUse2(word):\n",
    "    if word==word.upper() or word[1:]==word[1:].lower():\n",
    "        return True\n",
    "    else:\n",
    "        return False"
   ]
  },
  {
   "cell_type": "code",
   "execution_count": 172,
   "metadata": {},
   "outputs": [
    {
     "name": "stdout",
     "output_type": "stream",
     "text": [
      "True\n",
      "True\n",
      "True\n",
      "False\n"
     ]
    }
   ],
   "source": [
    "print(detectCapitalUse2('USA'))\n",
    "print(detectCapitalUse2('Google'))\n",
    "print(detectCapitalUse2('Leetcode'))\n",
    "print(detectCapitalUse2('FlaG'))"
   ]
  },
  {
   "cell_type": "markdown",
   "metadata": {},
   "source": [
    "### 438. Find All Anagrams in a String"
   ]
  },
  {
   "cell_type": "code",
   "execution_count": 173,
   "metadata": {
    "collapsed": true
   },
   "outputs": [],
   "source": [
    "def findAnagrams(s, p):\n",
    "    s_value=[ord(x)-ord('a') for x in s]\n",
    "    p_value=[ord(x)-ord('a') for x in p]\n",
    "    s_hash=[0]*26\n",
    "    p_hash=[0]*26\n",
    "    for value in p_value:\n",
    "        p_hash[value]+=1\n",
    "    window_length=len(p)\n",
    "    result=[]\n",
    "    for index,value in enumerate(s_value):\n",
    "        s_hash[value]+=1\n",
    "        if index>=window_length:\n",
    "            s_hash[s_value[index-window_length]]-=1\n",
    "        if s_hash==p_hash:\n",
    "            result.append(index-window_length+1)\n",
    "    return result"
   ]
  },
  {
   "cell_type": "code",
   "execution_count": 174,
   "metadata": {
    "collapsed": true
   },
   "outputs": [],
   "source": [
    "s= \"cbaebabacd\" \n",
    "p= \"abc\""
   ]
  },
  {
   "cell_type": "code",
   "execution_count": 175,
   "metadata": {},
   "outputs": [
    {
     "name": "stdout",
     "output_type": "stream",
     "text": [
      "[0, 6]\n"
     ]
    }
   ],
   "source": [
    "print(findAnagrams(s,p))"
   ]
  },
  {
   "cell_type": "code",
   "execution_count": null,
   "metadata": {
    "collapsed": true
   },
   "outputs": [],
   "source": []
  }
 ],
 "metadata": {
  "kernelspec": {
   "display_name": "Python 3",
   "language": "python",
   "name": "python3"
  },
  "language_info": {
   "codemirror_mode": {
    "name": "ipython",
    "version": 3
   },
   "file_extension": ".py",
   "mimetype": "text/x-python",
   "name": "python",
   "nbconvert_exporter": "python",
   "pygments_lexer": "ipython3",
   "version": "3.6.1"
  }
 },
 "nbformat": 4,
 "nbformat_minor": 2
}
