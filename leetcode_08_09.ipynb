{
 "cells": [
  {
   "cell_type": "markdown",
   "metadata": {},
   "source": [
    "### 441. Arranging Coins"
   ]
  },
  {
   "cell_type": "code",
   "execution_count": 1,
   "metadata": {
    "collapsed": true
   },
   "outputs": [],
   "source": [
    "def arrangeCoins(n):\n",
    "    i=1\n",
    "    while i*(i+1)/2<n:\n",
    "        i+=1\n",
    "    return i if i*(i+1)/2==n else i-1"
   ]
  },
  {
   "cell_type": "code",
   "execution_count": 3,
   "metadata": {},
   "outputs": [
    {
     "name": "stdout",
     "output_type": "stream",
     "text": [
      "2\n",
      "3\n"
     ]
    }
   ],
   "source": [
    "print(arrangeCoins(5))\n",
    "print(arrangeCoins(8))"
   ]
  },
  {
   "cell_type": "code",
   "execution_count": 5,
   "metadata": {
    "collapsed": true
   },
   "outputs": [],
   "source": [
    "def arrangeCoins2(n):\n",
    "    count=0\n",
    "    i=1\n",
    "    while n>=0:\n",
    "        n-=i\n",
    "        i+=1\n",
    "        count+=1\n",
    "    return count-1"
   ]
  },
  {
   "cell_type": "code",
   "execution_count": 6,
   "metadata": {},
   "outputs": [
    {
     "name": "stdout",
     "output_type": "stream",
     "text": [
      "2\n",
      "3\n"
     ]
    }
   ],
   "source": [
    "print(arrangeCoins2(5))\n",
    "print(arrangeCoins2(8))"
   ]
  },
  {
   "cell_type": "markdown",
   "metadata": {},
   "source": [
    "### 704. Binary Search"
   ]
  },
  {
   "cell_type": "code",
   "execution_count": 7,
   "metadata": {
    "collapsed": true
   },
   "outputs": [],
   "source": [
    "def search(nums, target):\n",
    "    left=0\n",
    "    right=len(nums)-1\n",
    "    while left<=right:\n",
    "        mid=(left+right)//2\n",
    "        if nums[mid]==target:\n",
    "            return mid\n",
    "        elif nums[mid]<target:\n",
    "            left=mid+1\n",
    "        else:\n",
    "            right=mid-1\n",
    "    return -1"
   ]
  },
  {
   "cell_type": "code",
   "execution_count": 9,
   "metadata": {},
   "outputs": [
    {
     "name": "stdout",
     "output_type": "stream",
     "text": [
      "4\n",
      "-1\n"
     ]
    }
   ],
   "source": [
    "print(search([-1,0,3,5,9,12],9))\n",
    "print(search([-1,0,3,5,9,12],2))"
   ]
  },
  {
   "cell_type": "markdown",
   "metadata": {},
   "source": [
    "### 500. Keyboard Row"
   ]
  },
  {
   "cell_type": "code",
   "execution_count": 11,
   "metadata": {
    "collapsed": true
   },
   "outputs": [],
   "source": [
    "def findWords(words):\n",
    "    line1='qwertyuiopQWERTYUIOP'\n",
    "    line2='asdfghjklASDFGHJKL'\n",
    "    line3='zxcvbnmZXCVBNM'\n",
    "    keyboard={}\n",
    "    for char in line1:\n",
    "        keyboard[char]=1\n",
    "    for char in line2:\n",
    "        keyboard[char]=2\n",
    "    for char in line3:\n",
    "        keyboard[char]=3\n",
    "    result=[]\n",
    "    for word in words:\n",
    "        found=True\n",
    "        for i in range(len(word)):\n",
    "            check=keyboard[word[0]]\n",
    "            if keyboard[word[i]]!=check:\n",
    "                found=False\n",
    "                break\n",
    "        if found:\n",
    "            result.append(word)\n",
    "    return result"
   ]
  },
  {
   "cell_type": "code",
   "execution_count": 12,
   "metadata": {},
   "outputs": [
    {
     "name": "stdout",
     "output_type": "stream",
     "text": [
      "['Alaska', 'Dad']\n"
     ]
    }
   ],
   "source": [
    "print(findWords([\"Hello\", \"Alaska\", \"Dad\", \"Peace\"]))"
   ]
  },
  {
   "cell_type": "markdown",
   "metadata": {},
   "source": [
    "### 771. Jewels and Stones"
   ]
  },
  {
   "cell_type": "code",
   "execution_count": 13,
   "metadata": {
    "collapsed": true
   },
   "outputs": [],
   "source": [
    "def numJewelsInStones(J, S):\n",
    "    myset=set(S)\n",
    "    stoneDict={}\n",
    "    for stone in myset:\n",
    "        stoneDict[stone]=S.count(stone)\n",
    "    count=0\n",
    "    for jewel in J:\n",
    "        if jewel in stoneDict:\n",
    "            count+=stoneDict[jewel]\n",
    "    return count"
   ]
  },
  {
   "cell_type": "code",
   "execution_count": 15,
   "metadata": {},
   "outputs": [
    {
     "name": "stdout",
     "output_type": "stream",
     "text": [
      "3\n",
      "0\n"
     ]
    }
   ],
   "source": [
    "print(numJewelsInStones(\"aA\",\"aAAbbbb\"))\n",
    "print(numJewelsInStones('z','ZZ'))"
   ]
  },
  {
   "cell_type": "code",
   "execution_count": null,
   "metadata": {
    "collapsed": true
   },
   "outputs": [],
   "source": []
  }
 ],
 "metadata": {
  "kernelspec": {
   "display_name": "Python 3",
   "language": "python",
   "name": "python3"
  },
  "language_info": {
   "codemirror_mode": {
    "name": "ipython",
    "version": 3
   },
   "file_extension": ".py",
   "mimetype": "text/x-python",
   "name": "python",
   "nbconvert_exporter": "python",
   "pygments_lexer": "ipython3",
   "version": "3.6.1"
  }
 },
 "nbformat": 4,
 "nbformat_minor": 2
}
