{
 "cells": [
  {
   "cell_type": "markdown",
   "metadata": {},
   "source": [
    "### 383. Ransom Note"
   ]
  },
  {
   "cell_type": "code",
   "execution_count": 1,
   "metadata": {
    "collapsed": true
   },
   "outputs": [],
   "source": [
    "def canConstruct(ransomNote, magazine):\n",
    "    ransomDict={}\n",
    "    magazineDict={}\n",
    "    for letter in ransomNote:\n",
    "        if letter not in ransomDict:\n",
    "            ransomDict[letter]=1\n",
    "        else:\n",
    "            ransomDict[letter]+=1\n",
    "    for letter in magazine:\n",
    "        if letter not in magazineDict:\n",
    "            magazineDict[letter]=1\n",
    "        else:\n",
    "            magazineDict[letter]+=1\n",
    "    for letter in ransomDict:\n",
    "        if (letter not in magazineDict) or (ransomDict[letter]>magazineDict[letter]):\n",
    "            return False\n",
    "    return True"
   ]
  },
  {
   "cell_type": "code",
   "execution_count": 2,
   "metadata": {},
   "outputs": [
    {
     "name": "stdout",
     "output_type": "stream",
     "text": [
      "False\n",
      "False\n",
      "True\n"
     ]
    }
   ],
   "source": [
    "print(canConstruct(\"a\", \"b\"))\n",
    "print(canConstruct(\"aa\", \"ab\"))\n",
    "print(canConstruct(\"aa\", \"aab\"))"
   ]
  },
  {
   "cell_type": "code",
   "execution_count": 3,
   "metadata": {
    "collapsed": true
   },
   "outputs": [],
   "source": [
    "def canConstruct2(ransomNote, magazine):\n",
    "    set1=set(ransomNote)\n",
    "    set2=set(magazine)\n",
    "    for letter in set1:\n",
    "        if ransomNote.count(letter)>magazine.count(letter):\n",
    "            return False\n",
    "    return True"
   ]
  },
  {
   "cell_type": "code",
   "execution_count": 4,
   "metadata": {},
   "outputs": [
    {
     "name": "stdout",
     "output_type": "stream",
     "text": [
      "False\n",
      "False\n",
      "True\n"
     ]
    }
   ],
   "source": [
    "print(canConstruct2(\"a\", \"b\"))\n",
    "print(canConstruct2(\"aa\", \"ab\"))\n",
    "print(canConstruct2(\"aa\", \"aab\"))"
   ]
  },
  {
   "cell_type": "markdown",
   "metadata": {},
   "source": [
    "### 387. First Unique Character in a String"
   ]
  },
  {
   "cell_type": "code",
   "execution_count": 5,
   "metadata": {
    "collapsed": true
   },
   "outputs": [],
   "source": [
    "def firstUniqChar(s):\n",
    "    charSet=set(s)\n",
    "    mydict={}\n",
    "    for char in charSet:\n",
    "        if s.count(char)==1:\n",
    "            mydict[char]=s.index(char)\n",
    "    if mydict:\n",
    "        return min(mydict.values())\n",
    "    else:\n",
    "        return -1"
   ]
  },
  {
   "cell_type": "code",
   "execution_count": 6,
   "metadata": {
    "scrolled": true
   },
   "outputs": [
    {
     "name": "stdout",
     "output_type": "stream",
     "text": [
      "0\n",
      "2\n"
     ]
    }
   ],
   "source": [
    "print(firstUniqChar(\"leetcode\"))\n",
    "print(firstUniqChar(\"loveleetcode\"))"
   ]
  },
  {
   "cell_type": "markdown",
   "metadata": {},
   "source": [
    "### 389. Find the Difference"
   ]
  },
  {
   "cell_type": "code",
   "execution_count": 7,
   "metadata": {
    "collapsed": true
   },
   "outputs": [],
   "source": [
    "def findTheDifference(s, t):\n",
    "    set1=set(s)\n",
    "    set2=set(t)\n",
    "    mydict1={}\n",
    "    mydict2={}\n",
    "    for char in set1:\n",
    "        mydict1[char]=s.count(char)\n",
    "    for char in set2:\n",
    "        mydict2[char]=s.count(char)\n",
    "    for item in mydict2:\n",
    "        if (item not in mydict1) or (mydict1[item]!=mydict2[item]):\n",
    "            return item"
   ]
  },
  {
   "cell_type": "code",
   "execution_count": 8,
   "metadata": {},
   "outputs": [
    {
     "name": "stdout",
     "output_type": "stream",
     "text": [
      "e\n"
     ]
    }
   ],
   "source": [
    "print(findTheDifference('abcd','abcde'))"
   ]
  },
  {
   "cell_type": "code",
   "execution_count": 9,
   "metadata": {
    "collapsed": true
   },
   "outputs": [],
   "source": [
    "def findTheDifference2(s, t):\n",
    "    mydict1={}\n",
    "    mydict2={}\n",
    "    for char in s:\n",
    "        if char in mydict1:\n",
    "            mydict1[char]+=1\n",
    "        else:\n",
    "            mydict1[char]=1\n",
    "    for char in t:\n",
    "        if char in mydict2:\n",
    "            mydict2[char]+=1\n",
    "        else:\n",
    "            mydict2[char]=1\n",
    "    for item in mydict2:\n",
    "        if (item not in mydict1) or (mydict2[item]!=mydict1[item]):\n",
    "            return item"
   ]
  },
  {
   "cell_type": "code",
   "execution_count": 10,
   "metadata": {
    "scrolled": true
   },
   "outputs": [
    {
     "name": "stdout",
     "output_type": "stream",
     "text": [
      "e\n"
     ]
    }
   ],
   "source": [
    "print(findTheDifference2('abcd','abcde'))"
   ]
  },
  {
   "cell_type": "markdown",
   "metadata": {},
   "source": [
    "### 476. Number Complement"
   ]
  },
  {
   "cell_type": "code",
   "execution_count": 11,
   "metadata": {
    "collapsed": true
   },
   "outputs": [],
   "source": [
    "def turnTobinary(num):\n",
    "        convString='01'\n",
    "        mylist=[]\n",
    "        while num:\n",
    "            mylist.append(convString[num%2])\n",
    "            num=num//2\n",
    "        string=''\n",
    "        while mylist:\n",
    "            string+=mylist.pop()\n",
    "        return string"
   ]
  },
  {
   "cell_type": "code",
   "execution_count": 12,
   "metadata": {
    "collapsed": true
   },
   "outputs": [],
   "source": [
    "def findComplement(num):\n",
    "        numString=turnTobinary(num)\n",
    "        complementList=[]\n",
    "        for char in numString:\n",
    "            if char=='0':\n",
    "                complementList.append('1')\n",
    "            else:\n",
    "                complementList.append('0')\n",
    "        num=0\n",
    "        i=0\n",
    "        while complementList:\n",
    "            num+=int(complementList.pop())*(2**i)\n",
    "            i+=1\n",
    "        return num"
   ]
  },
  {
   "cell_type": "code",
   "execution_count": 13,
   "metadata": {},
   "outputs": [
    {
     "name": "stdout",
     "output_type": "stream",
     "text": [
      "2\n",
      "1\n"
     ]
    }
   ],
   "source": [
    "print(findComplement(5))\n",
    "print(findComplement(2))"
   ]
  },
  {
   "cell_type": "code",
   "execution_count": 14,
   "metadata": {
    "collapsed": true
   },
   "outputs": [],
   "source": [
    "def findComplement2(num):\n",
    "    numString=turnTobinary(num)\n",
    "    num=0\n",
    "    i=0\n",
    "    for char in numString[::-1]:\n",
    "        if char=='0':\n",
    "            num+=2**i\n",
    "        i+=1\n",
    "    return num"
   ]
  },
  {
   "cell_type": "code",
   "execution_count": 15,
   "metadata": {},
   "outputs": [
    {
     "name": "stdout",
     "output_type": "stream",
     "text": [
      "2\n",
      "1\n"
     ]
    }
   ],
   "source": [
    "print(findComplement2(5))\n",
    "print(findComplement2(2))"
   ]
  },
  {
   "cell_type": "markdown",
   "metadata": {},
   "source": [
    "### 374. Guess Number Higher or Lower"
   ]
  },
  {
   "cell_type": "code",
   "execution_count": 16,
   "metadata": {
    "collapsed": true
   },
   "outputs": [],
   "source": [
    "def guess(num):\n",
    "    pick=6\n",
    "    if num>pick:\n",
    "        return 1\n",
    "    elif num<pick:\n",
    "        return -1\n",
    "    else:\n",
    "        return 0"
   ]
  },
  {
   "cell_type": "code",
   "execution_count": 17,
   "metadata": {
    "collapsed": true
   },
   "outputs": [],
   "source": [
    "def guessNumber(n):\n",
    "    left=1\n",
    "    right=n\n",
    "    myguess=(left+right)//2\n",
    "    while guess(myguess)!=0:\n",
    "        if guess(myguess)==-1:\n",
    "            right=myguess\n",
    "            myguess=(left+right)//2\n",
    "        else:\n",
    "            left=myguess+1\n",
    "            myguess=(left+right)//2\n",
    "    return myguess"
   ]
  },
  {
   "cell_type": "markdown",
   "metadata": {},
   "source": [
    "### 405. Convert a Number to Hexadecimal"
   ]
  },
  {
   "cell_type": "code",
   "execution_count": 18,
   "metadata": {
    "collapsed": true
   },
   "outputs": [],
   "source": [
    "def toHex(num):\n",
    "    convString='0123456789abcdef'\n",
    "    if num==0:\n",
    "        return convString[0]\n",
    "    elif num>0:\n",
    "        stringList=[]\n",
    "        while num:\n",
    "            stringList.append(convString[num%16])\n",
    "            num=num//16\n",
    "    else:\n",
    "        newnum=16**8-abs(num)\n",
    "        stringList=[]\n",
    "        while newnum:\n",
    "            stringList.append(convString[newnum%16])\n",
    "            newnum=newnum//16\n",
    "    string=''\n",
    "    while stringList:\n",
    "        string+=stringList.pop()\n",
    "    return string"
   ]
  },
  {
   "cell_type": "code",
   "execution_count": 19,
   "metadata": {},
   "outputs": [
    {
     "name": "stdout",
     "output_type": "stream",
     "text": [
      "1a\n",
      "ffffffff\n"
     ]
    }
   ],
   "source": [
    "print(toHex(26))\n",
    "print(toHex(-1))"
   ]
  },
  {
   "cell_type": "code",
   "execution_count": null,
   "metadata": {
    "collapsed": true
   },
   "outputs": [],
   "source": []
  }
 ],
 "metadata": {
  "kernelspec": {
   "display_name": "Python 3",
   "language": "python",
   "name": "python3"
  },
  "language_info": {
   "codemirror_mode": {
    "name": "ipython",
    "version": 3
   },
   "file_extension": ".py",
   "mimetype": "text/x-python",
   "name": "python",
   "nbconvert_exporter": "python",
   "pygments_lexer": "ipython3",
   "version": "3.6.4"
  }
 },
 "nbformat": 4,
 "nbformat_minor": 2
}
