{
 "cells": [
  {
   "cell_type": "markdown",
   "metadata": {},
   "source": [
    "### 1. Two Sum"
   ]
  },
  {
   "cell_type": "code",
   "execution_count": 140,
   "metadata": {},
   "outputs": [],
   "source": [
    "nums=[3,2,4]\n",
    "target=6"
   ]
  },
  {
   "cell_type": "code",
   "execution_count": 141,
   "metadata": {},
   "outputs": [],
   "source": [
    "def twoSum(nums,target):\n",
    "    n=len(nums)\n",
    "    index1=0\n",
    "    index2=0\n",
    "    for i in range(n):\n",
    "        num1=nums[i]\n",
    "        num2=target-nums[i]\n",
    "        for j in range(i+1,n):\n",
    "            if nums[j]==num2:\n",
    "                index1=i\n",
    "                index2=j\n",
    "            else:\n",
    "                continue\n",
    "    return [index1,index2]"
   ]
  },
  {
   "cell_type": "code",
   "execution_count": 142,
   "metadata": {},
   "outputs": [
    {
     "data": {
      "text/plain": [
       "[1, 2]"
      ]
     },
     "execution_count": 142,
     "metadata": {},
     "output_type": "execute_result"
    }
   ],
   "source": [
    "a=twoSum(nums,target)\n",
    "a"
   ]
  },
  {
   "cell_type": "code",
   "execution_count": 143,
   "metadata": {},
   "outputs": [],
   "source": [
    "def twoSum1(nums,target):\n",
    "    dic={}\n",
    "    for index,element in enumerate(nums):\n",
    "        find=target-element\n",
    "        if find in dic:\n",
    "            return [index,dic[find]]\n",
    "        else:\n",
    "            dic[element]=index"
   ]
  },
  {
   "cell_type": "code",
   "execution_count": 144,
   "metadata": {},
   "outputs": [
    {
     "data": {
      "text/plain": [
       "[2, 1]"
      ]
     },
     "execution_count": 144,
     "metadata": {},
     "output_type": "execute_result"
    }
   ],
   "source": [
    "a=twoSum1(nums,target)\n",
    "a"
   ]
  },
  {
   "cell_type": "markdown",
   "metadata": {},
   "source": [
    "### 9. Palindrome Number  "
   ]
  },
  {
   "cell_type": "code",
   "execution_count": 145,
   "metadata": {},
   "outputs": [],
   "source": [
    "a=-121\n",
    "astr=str(a)"
   ]
  },
  {
   "cell_type": "code",
   "execution_count": 146,
   "metadata": {},
   "outputs": [],
   "source": [
    "def isPalindrome(x):\n",
    "        intstring = str(x)\n",
    "        n = len(intstring)\n",
    "        flag=0\n",
    "        for i in range(n//2):\n",
    "            if intstring[i]==intstring[n-i-1]:\n",
    "                flag+=1\n",
    "            else:\n",
    "                flag=flag\n",
    "        if flag==n//2:\n",
    "            return True\n",
    "        else:\n",
    "            return False"
   ]
  },
  {
   "cell_type": "code",
   "execution_count": 147,
   "metadata": {},
   "outputs": [
    {
     "data": {
      "text/plain": [
       "False"
      ]
     },
     "execution_count": 147,
     "metadata": {},
     "output_type": "execute_result"
    }
   ],
   "source": [
    "isPalindrome(a)"
   ]
  },
  {
   "cell_type": "code",
   "execution_count": 148,
   "metadata": {},
   "outputs": [],
   "source": [
    "def isPalindrome1(x):\n",
    "    if x>=0:\n",
    "        return x==int(str(x)[::-1])\n",
    "    else:\n",
    "        return False"
   ]
  },
  {
   "cell_type": "code",
   "execution_count": 149,
   "metadata": {},
   "outputs": [
    {
     "data": {
      "text/plain": [
       "False"
      ]
     },
     "execution_count": 149,
     "metadata": {},
     "output_type": "execute_result"
    }
   ],
   "source": [
    "isPalindrome1(a)"
   ]
  },
  {
   "cell_type": "markdown",
   "metadata": {},
   "source": [
    "### 20. Valid Parentheses"
   ]
  },
  {
   "cell_type": "code",
   "execution_count": 150,
   "metadata": {},
   "outputs": [],
   "source": [
    "def isValid(s):\n",
    "    stack=[]\n",
    "    balanced=True\n",
    "    j=0\n",
    "    while j<len(s) and balanced:\n",
    "        symbol=s[j]\n",
    "        if symbol in '([{':\n",
    "            stack.append(symbol)\n",
    "        else:\n",
    "            if len(stack)==0:\n",
    "                balanced=False\n",
    "            else:\n",
    "                opening='([{'\n",
    "                closing=')]}'\n",
    "                balanced=(opening.index(stack.pop())==closing.index(symbol))\n",
    "        j+=1\n",
    "    while len(stack)==0 and balanced:\n",
    "        return True\n",
    "    else:\n",
    "        return False"
   ]
  },
  {
   "cell_type": "code",
   "execution_count": 151,
   "metadata": {},
   "outputs": [],
   "source": [
    "def main():\n",
    "    test1='()'\n",
    "    test2=\"()[]{}\"\n",
    "    test3=\"(]\"\n",
    "    test4=\"([)]\"\n",
    "    test5=\"{[]}\"\n",
    "    print(isValid(test1))\n",
    "    print(isValid(test2))\n",
    "    print(isValid(test3))\n",
    "    print(isValid(test4))\n",
    "    print(isValid(test5))"
   ]
  },
  {
   "cell_type": "code",
   "execution_count": 152,
   "metadata": {},
   "outputs": [
    {
     "name": "stdout",
     "output_type": "stream",
     "text": [
      "True\n",
      "True\n",
      "False\n",
      "False\n",
      "True\n"
     ]
    }
   ],
   "source": [
    "main()"
   ]
  },
  {
   "cell_type": "markdown",
   "metadata": {},
   "source": [
    "### 169. Majority Element"
   ]
  },
  {
   "cell_type": "code",
   "execution_count": 153,
   "metadata": {},
   "outputs": [],
   "source": [
    "def majorityElement(nums):\n",
    "    n=len(nums)\n",
    "    for num in set(nums):\n",
    "        if nums.count(num)>n//2:\n",
    "            return num"
   ]
  },
  {
   "cell_type": "code",
   "execution_count": 154,
   "metadata": {},
   "outputs": [
    {
     "data": {
      "text/plain": [
       "3"
      ]
     },
     "execution_count": 154,
     "metadata": {},
     "output_type": "execute_result"
    }
   ],
   "source": [
    "list1=[3,2,3]\n",
    "majorityElement(list1)"
   ]
  },
  {
   "cell_type": "code",
   "execution_count": 155,
   "metadata": {},
   "outputs": [
    {
     "data": {
      "text/plain": [
       "2"
      ]
     },
     "execution_count": 155,
     "metadata": {},
     "output_type": "execute_result"
    }
   ],
   "source": [
    "list2=[2,2,1,1,1,2,2]\n",
    "majorityElement(list2)"
   ]
  },
  {
   "cell_type": "markdown",
   "metadata": {},
   "source": [
    "### 26. Remove Duplicates from Sorted Array"
   ]
  },
  {
   "cell_type": "code",
   "execution_count": 156,
   "metadata": {},
   "outputs": [],
   "source": [
    "def removeDuplicates(nums):\n",
    "    if not nums:\n",
    "        return 0\n",
    "    length=len(nums)\n",
    "    if length==1:\n",
    "        return 1\n",
    "    i=0\n",
    "    j=1\n",
    "    while j<length:\n",
    "        if nums[i]==nums[j]:\n",
    "            j+=1\n",
    "        else:\n",
    "            i+=1\n",
    "            nums[i]=nums[j]\n",
    "            j+=1\n",
    "    return i+1"
   ]
  },
  {
   "cell_type": "code",
   "execution_count": 157,
   "metadata": {},
   "outputs": [
    {
     "name": "stdout",
     "output_type": "stream",
     "text": [
      "2\n"
     ]
    }
   ],
   "source": [
    "nums = [1,1,2]\n",
    "print(removeDuplicates(nums))"
   ]
  },
  {
   "cell_type": "code",
   "execution_count": 158,
   "metadata": {},
   "outputs": [
    {
     "name": "stdout",
     "output_type": "stream",
     "text": [
      "5\n"
     ]
    }
   ],
   "source": [
    "nums1 = [0,0,1,1,1,2,2,3,3,4]\n",
    "print(removeDuplicates(nums1))"
   ]
  },
  {
   "cell_type": "markdown",
   "metadata": {},
   "source": [
    "### 27. Remove Element"
   ]
  },
  {
   "cell_type": "code",
   "execution_count": 159,
   "metadata": {},
   "outputs": [],
   "source": [
    "def removeElement(nums, val):\n",
    "    if not nums:\n",
    "        return 0\n",
    "    length=len(nums)\n",
    "    i=0\n",
    "    j=1\n",
    "    while j<length:\n",
    "        if nums[i]==val:\n",
    "            if nums[j]!=val:\n",
    "                newnum=nums[j]\n",
    "                nums[j]=nums[i]\n",
    "                nums[i]=newnum\n",
    "                i+=1\n",
    "                j+=1\n",
    "            else:\n",
    "                j+=1\n",
    "        else:\n",
    "            i+=1\n",
    "            j+=1\n",
    "    return length-nums.count(val)"
   ]
  },
  {
   "cell_type": "code",
   "execution_count": 160,
   "metadata": {},
   "outputs": [
    {
     "name": "stdout",
     "output_type": "stream",
     "text": [
      "2\n",
      "[2, 2, 3, 3]\n"
     ]
    }
   ],
   "source": [
    "nums=[3,2,2,3]\n",
    "val=3\n",
    "print(removeElement(nums, val))\n",
    "print(nums)"
   ]
  },
  {
   "cell_type": "code",
   "execution_count": 161,
   "metadata": {},
   "outputs": [
    {
     "name": "stdout",
     "output_type": "stream",
     "text": [
      "5\n",
      "[0, 1, 3, 0, 4, 2, 2, 2]\n"
     ]
    }
   ],
   "source": [
    "nums1=[0,1,2,2,3,0,4,2]\n",
    "val1=2\n",
    "print(removeElement(nums1, val1))\n",
    "print(nums1)"
   ]
  },
  {
   "cell_type": "code",
   "execution_count": 162,
   "metadata": {},
   "outputs": [],
   "source": [
    "def removeElement1(nums, val):\n",
    "    if not nums:\n",
    "        return 0\n",
    "    i=0\n",
    "    while i<len(nums):\n",
    "        if nums[i]==val:\n",
    "            del nums[i]\n",
    "            continue\n",
    "        i+=1\n",
    "    return len(nums)"
   ]
  },
  {
   "cell_type": "code",
   "execution_count": 163,
   "metadata": {},
   "outputs": [
    {
     "name": "stdout",
     "output_type": "stream",
     "text": [
      "2\n",
      "[2, 2]\n"
     ]
    }
   ],
   "source": [
    "nums=[3,2,2,3]\n",
    "val=3\n",
    "print(removeElement1(nums, val))\n",
    "print(nums)"
   ]
  },
  {
   "cell_type": "code",
   "execution_count": 164,
   "metadata": {},
   "outputs": [
    {
     "name": "stdout",
     "output_type": "stream",
     "text": [
      "5\n",
      "[0, 1, 3, 0, 4]\n"
     ]
    }
   ],
   "source": [
    "nums1=[0,1,2,2,3,0,4,2]\n",
    "val1=2\n",
    "print(removeElement1(nums1, val1))\n",
    "print(nums1)"
   ]
  },
  {
   "cell_type": "code",
   "execution_count": null,
   "metadata": {},
   "outputs": [],
   "source": []
  }
 ],
 "metadata": {
  "kernelspec": {
   "display_name": "Python 3",
   "language": "python",
   "name": "python3"
  },
  "language_info": {
   "codemirror_mode": {
    "name": "ipython",
    "version": 3
   },
   "file_extension": ".py",
   "mimetype": "text/x-python",
   "name": "python",
   "nbconvert_exporter": "python",
   "pygments_lexer": "ipython3",
   "version": "3.6.4"
  }
 },
 "nbformat": 4,
 "nbformat_minor": 2
}
