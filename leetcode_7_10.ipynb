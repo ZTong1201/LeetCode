{
 "cells": [
  {
   "cell_type": "markdown",
   "metadata": {},
   "source": [
    "### 136. Single Number"
   ]
  },
  {
   "cell_type": "code",
   "execution_count": 1,
   "metadata": {
    "collapsed": true
   },
   "outputs": [],
   "source": [
    "def singleNumber(nums):\n",
    "    mydict={}\n",
    "    for i in nums:\n",
    "        if i in mydict:\n",
    "            mydict[i]+=1\n",
    "        else:\n",
    "            mydict[i]=1\n",
    "    for item in mydict:\n",
    "        if mydict[item]==1:\n",
    "            break\n",
    "    return item"
   ]
  },
  {
   "cell_type": "code",
   "execution_count": 2,
   "metadata": {},
   "outputs": [
    {
     "name": "stdout",
     "output_type": "stream",
     "text": [
      "1\n",
      "4\n"
     ]
    }
   ],
   "source": [
    "print(singleNumber([2,2,1]))\n",
    "print(singleNumber([4,1,2,1,2]))"
   ]
  },
  {
   "cell_type": "code",
   "execution_count": 3,
   "metadata": {
    "collapsed": true
   },
   "outputs": [],
   "source": [
    "def singleNumber2(nums):\n",
    "    mydict={}\n",
    "    for i in nums:\n",
    "        if i in mydict:\n",
    "            mydict.pop(i)\n",
    "        else:\n",
    "            mydict[i]=1\n",
    "    return list(mydict.keys())[0]"
   ]
  },
  {
   "cell_type": "code",
   "execution_count": 4,
   "metadata": {},
   "outputs": [
    {
     "name": "stdout",
     "output_type": "stream",
     "text": [
      "1\n",
      "4\n"
     ]
    }
   ],
   "source": [
    "print(singleNumber2([2,2,1]))\n",
    "print(singleNumber2([4,1,2,1,2]))"
   ]
  },
  {
   "cell_type": "markdown",
   "metadata": {},
   "source": [
    "### 268. Missing Number"
   ]
  },
  {
   "cell_type": "code",
   "execution_count": 5,
   "metadata": {
    "collapsed": true
   },
   "outputs": [],
   "source": [
    "def missingNumber(nums):\n",
    "    mydict={}\n",
    "    for item in nums:\n",
    "        mydict[item]=1\n",
    "    for i in range(len(nums)+1):\n",
    "        if i in mydict:\n",
    "            continue\n",
    "        else:\n",
    "            break\n",
    "    return i"
   ]
  },
  {
   "cell_type": "code",
   "execution_count": 6,
   "metadata": {},
   "outputs": [
    {
     "name": "stdout",
     "output_type": "stream",
     "text": [
      "2\n",
      "8\n"
     ]
    }
   ],
   "source": [
    "print(missingNumber([3,0,1]))\n",
    "print(missingNumber([9,6,4,2,3,5,7,0,1]))"
   ]
  },
  {
   "cell_type": "code",
   "execution_count": 7,
   "metadata": {
    "collapsed": true
   },
   "outputs": [],
   "source": [
    "def missingNumber2(nums):\n",
    "    return list(set(range(len(nums)+1))-set(nums))[0]"
   ]
  },
  {
   "cell_type": "code",
   "execution_count": 8,
   "metadata": {},
   "outputs": [
    {
     "name": "stdout",
     "output_type": "stream",
     "text": [
      "2\n",
      "8\n"
     ]
    }
   ],
   "source": [
    "print(missingNumber2([3,0,1]))\n",
    "print(missingNumber2([9,6,4,2,3,5,7,0,1]))"
   ]
  },
  {
   "cell_type": "markdown",
   "metadata": {},
   "source": [
    "### 141. Linked List Cycle"
   ]
  },
  {
   "cell_type": "code",
   "execution_count": 9,
   "metadata": {
    "collapsed": true
   },
   "outputs": [],
   "source": [
    "def hasCycle(head):\n",
    "    if not head or not head.next:\n",
    "        return False\n",
    "    slow=head\n",
    "    fast=head.next\n",
    "    while slow!=fast:\n",
    "        if not fast or not fast.next:\n",
    "            return False\n",
    "        else:\n",
    "            slow=slow.next\n",
    "            fast=fast.next.next\n",
    "    return True"
   ]
  },
  {
   "cell_type": "markdown",
   "metadata": {
    "collapsed": true
   },
   "source": [
    "### 160. Intersection of Two Linked Lists"
   ]
  },
  {
   "cell_type": "code",
   "execution_count": 10,
   "metadata": {
    "collapsed": true
   },
   "outputs": [],
   "source": [
    "def getIntersectionNode(headA, headB):\n",
    "    mydict={}\n",
    "    while headA:\n",
    "        mydict[headA]=1\n",
    "        headA=headA.next\n",
    "    while headB:\n",
    "        if headB in mydict:\n",
    "            return headB\n",
    "        else:\n",
    "            headB=headB.next\n",
    "    return None"
   ]
  },
  {
   "cell_type": "markdown",
   "metadata": {
    "collapsed": true
   },
   "source": [
    "### 599. Minimum Index Sum of Two Lists"
   ]
  },
  {
   "cell_type": "code",
   "execution_count": 80,
   "metadata": {},
   "outputs": [],
   "source": [
    "def findRestaurant(list1, list2):\n",
    "    commonRest=set(list1)&set(list2)\n",
    "    mydict={}\n",
    "    for index1,value1 in enumerate(list1):\n",
    "        if value1 in commonRest:\n",
    "            mydict[value1]=index1\n",
    "    for index2,value2 in enumerate(list2):\n",
    "        if value2 in mydict:\n",
    "            mydict[value2]+=index2\n",
    "    minimum=min(mydict.values())\n",
    "    sameRest=list(mydict.keys())\n",
    "    resultList=[]\n",
    "    for i in range(len(sameRest)):\n",
    "        if mydict[sameRest[i]]==minimum:\n",
    "            resultList.append(sameRest[i])\n",
    "    return resultList"
   ]
  },
  {
   "cell_type": "code",
   "execution_count": 84,
   "metadata": {
    "collapsed": true
   },
   "outputs": [],
   "source": [
    "def main():\n",
    "    print(findRestaurant([\"Shogun\",\"Tapioca Express\",\"Burger King\",\"KFC\"],[\"Piatti\",\"The Grill at Torrey Pines\",\"Hungry Hunter Steakhouse\",\"Shogun\"]))\n",
    "    print(findRestaurant([\"Shogun\", \"Tapioca Express\", \"Burger King\", \"KFC\"],[\"KFC\", \"Shogun\", \"Burger King\"]))\n",
    "    print(findRestaurant([\"Shogun\", \"Tapioca Express\", \"Burger King\", \"KFC\"],[\"KFC\",\"Burger King\",\"Tapioca Express\",\"Shogun\"]))"
   ]
  },
  {
   "cell_type": "code",
   "execution_count": 85,
   "metadata": {},
   "outputs": [
    {
     "name": "stdout",
     "output_type": "stream",
     "text": [
      "['Shogun']\n",
      "['Shogun']\n",
      "['Shogun', 'Tapioca Express', 'Burger King', 'KFC']\n"
     ]
    }
   ],
   "source": [
    "main()"
   ]
  },
  {
   "cell_type": "markdown",
   "metadata": {},
   "source": [
    "### 594. Longest Harmonious Subsequence"
   ]
  },
  {
   "cell_type": "code",
   "execution_count": 109,
   "metadata": {
    "collapsed": true
   },
   "outputs": [],
   "source": [
    "def findLHS(nums):\n",
    "    numDict={}\n",
    "    for item in nums:\n",
    "        if item in numDict:\n",
    "            numDict[item]+=1\n",
    "        else:\n",
    "            numDict[item]=1\n",
    "    resultDict={}\n",
    "    for num in numDict:\n",
    "        if num+1 in numDict:\n",
    "            resultDict[num]=numDict[num]+numDict[num+1]\n",
    "    if resultDict:\n",
    "        return max(resultDict.values())\n",
    "    else:\n",
    "        return 0"
   ]
  },
  {
   "cell_type": "code",
   "execution_count": 110,
   "metadata": {},
   "outputs": [
    {
     "name": "stdout",
     "output_type": "stream",
     "text": [
      "5\n"
     ]
    }
   ],
   "source": [
    "print(findLHS([1,3,2,2,5,2,3,7]))"
   ]
  },
  {
   "cell_type": "markdown",
   "metadata": {},
   "source": [
    "### 204. Count Primes"
   ]
  },
  {
   "cell_type": "code",
   "execution_count": 125,
   "metadata": {
    "collapsed": true
   },
   "outputs": [],
   "source": [
    "def countPrimes(n):\n",
    "    if n<=2:\n",
    "        return 0\n",
    "    s=[1]*n\n",
    "    s[0]=0\n",
    "    s[1]=0\n",
    "    for i in range(2,int(n**0.5)+1):\n",
    "        if s[i]==1:\n",
    "            s[i*i:n:i]=[0]*int((n-1-i*i)/i+1)\n",
    "    return sum(s)"
   ]
  },
  {
   "cell_type": "code",
   "execution_count": 129,
   "metadata": {},
   "outputs": [
    {
     "name": "stdout",
     "output_type": "stream",
     "text": [
      "4\n",
      "8\n"
     ]
    }
   ],
   "source": [
    "print(countPrimes(10))\n",
    "print(countPrimes(20))"
   ]
  },
  {
   "cell_type": "markdown",
   "metadata": {},
   "source": [
    "### 21. Merge Two Sorted Lists"
   ]
  },
  {
   "cell_type": "code",
   "execution_count": 226,
   "metadata": {
    "collapsed": true
   },
   "outputs": [],
   "source": [
    "class ListNode(object):\n",
    "    def __init__(self,x):\n",
    "        self.val=x\n",
    "        self.next=None"
   ]
  },
  {
   "cell_type": "code",
   "execution_count": 227,
   "metadata": {
    "collapsed": true
   },
   "outputs": [],
   "source": [
    "list1=ListNode(1)\n",
    "list1.next=ListNode(2)\n",
    "list1.next.next=ListNode(4)"
   ]
  },
  {
   "cell_type": "code",
   "execution_count": 228,
   "metadata": {},
   "outputs": [],
   "source": [
    "list2=ListNode(1)\n",
    "list2.next=ListNode(3)\n",
    "list2.next.next=ListNode(4)\n",
    "list2.next.next.next=ListNode(5)"
   ]
  },
  {
   "cell_type": "code",
   "execution_count": 229,
   "metadata": {
    "collapsed": true
   },
   "outputs": [],
   "source": [
    "def mergeTwoLists(l1, l2):\n",
    "    res=ListNode(0)\n",
    "    d=res\n",
    "    while l1 or l2:\n",
    "        if l1 and l2:\n",
    "            if l1.val<=l2.val:\n",
    "                d.next=l1\n",
    "                l1=l1.next\n",
    "            else:\n",
    "                d.next=l2\n",
    "                l2=l2.next\n",
    "        elif l2:\n",
    "            d.next=l2\n",
    "            break\n",
    "        else:\n",
    "            d.next=l1\n",
    "            break\n",
    "        d=d.next\n",
    "    return res.next"
   ]
  },
  {
   "cell_type": "code",
   "execution_count": 230,
   "metadata": {
    "collapsed": true
   },
   "outputs": [],
   "source": [
    "list3=mergeTwoLists(list1,list2)"
   ]
  },
  {
   "cell_type": "code",
   "execution_count": 231,
   "metadata": {},
   "outputs": [
    {
     "name": "stdout",
     "output_type": "stream",
     "text": [
      "1\n",
      "1\n",
      "2\n",
      "3\n",
      "4\n",
      "4\n",
      "5\n"
     ]
    }
   ],
   "source": [
    "while list3:\n",
    "    print(list3.val)\n",
    "    list3=list3.next"
   ]
  },
  {
   "cell_type": "markdown",
   "metadata": {},
   "source": [
    "### 203. Remove Linked List Elements"
   ]
  },
  {
   "cell_type": "code",
   "execution_count": 241,
   "metadata": {
    "collapsed": true
   },
   "outputs": [],
   "source": [
    "def removeElements(head, val):\n",
    "    previous=None\n",
    "    current=head\n",
    "    while current:\n",
    "        if current.val==val and not previous:\n",
    "            head=current.next\n",
    "            current=current.next\n",
    "        elif current.val==val:\n",
    "            current=current.next\n",
    "            previous.next=current\n",
    "        else:\n",
    "            previous=current\n",
    "            current=current.next\n",
    "    return head"
   ]
  },
  {
   "cell_type": "code",
   "execution_count": 242,
   "metadata": {
    "collapsed": true
   },
   "outputs": [],
   "source": [
    "head=ListNode(1)\n",
    "head.next=ListNode(2)\n",
    "head.next.next=ListNode(6)\n",
    "head.next.next.next=ListNode(3)\n",
    "head.next.next.next.next=ListNode(4)\n",
    "head.next.next.next.next.next=ListNode(5)\n",
    "head.next.next.next.next.next.next=ListNode(6)"
   ]
  },
  {
   "cell_type": "code",
   "execution_count": 243,
   "metadata": {},
   "outputs": [],
   "source": [
    "head_prime=removeElements(head,6)"
   ]
  },
  {
   "cell_type": "code",
   "execution_count": 244,
   "metadata": {},
   "outputs": [
    {
     "name": "stdout",
     "output_type": "stream",
     "text": [
      "1\n",
      "2\n",
      "3\n",
      "4\n",
      "5\n"
     ]
    }
   ],
   "source": [
    "while head_prime:\n",
    "    print(head_prime.val)\n",
    "    head_prime=head_prime.next"
   ]
  },
  {
   "cell_type": "code",
   "execution_count": null,
   "metadata": {
    "collapsed": true
   },
   "outputs": [],
   "source": []
  }
 ],
 "metadata": {
  "kernelspec": {
   "display_name": "Python 3",
   "language": "python",
   "name": "python3"
  },
  "language_info": {
   "codemirror_mode": {
    "name": "ipython",
    "version": 3
   },
   "file_extension": ".py",
   "mimetype": "text/x-python",
   "name": "python",
   "nbconvert_exporter": "python",
   "pygments_lexer": "ipython3",
   "version": "3.6.1"
  }
 },
 "nbformat": 4,
 "nbformat_minor": 2
}
