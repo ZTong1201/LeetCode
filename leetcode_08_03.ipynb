{
 "cells": [
  {
   "cell_type": "markdown",
   "metadata": {},
   "source": [
    "### 496. Next Greater Element I"
   ]
  },
  {
   "cell_type": "code",
   "execution_count": 86,
   "metadata": {
    "collapsed": true
   },
   "outputs": [],
   "source": [
    "def nextGreaterElement(findNums, nums):\n",
    "    res=[]\n",
    "    for item in findNums:\n",
    "        index=nums.index(item)\n",
    "        found=False\n",
    "        if index==len(nums)-1:\n",
    "            res.append(-1)\n",
    "        else:\n",
    "            for i in range(index+1,len(nums)):\n",
    "                if nums[i]>item:\n",
    "                    found=True\n",
    "                    res.append(nums[i])\n",
    "                    break\n",
    "                if i==len(nums)-1 and not found:\n",
    "                    res.append(-1)\n",
    "    return res"
   ]
  },
  {
   "cell_type": "code",
   "execution_count": 87,
   "metadata": {},
   "outputs": [
    {
     "name": "stdout",
     "output_type": "stream",
     "text": [
      "[-1, 3, -1]\n",
      "[3, -1]\n"
     ]
    }
   ],
   "source": [
    "print(nextGreaterElement([4,1,2],[1,3,4,2]))\n",
    "print(nextGreaterElement([2,4],[1,2,3,4]))"
   ]
  },
  {
   "cell_type": "markdown",
   "metadata": {},
   "source": [
    "#### Use Stack"
   ]
  },
  {
   "cell_type": "code",
   "execution_count": 88,
   "metadata": {
    "collapsed": true
   },
   "outputs": [],
   "source": [
    "def nextGreaterElement2(findNums, nums):\n",
    "    stack=[]\n",
    "    mydict={}\n",
    "    for index in range(len(nums)-1,-1,-1):\n",
    "        while stack and stack[-1]<nums[index]:\n",
    "            stack.pop()\n",
    "        if stack:\n",
    "            mydict[nums[index]]=stack[-1]\n",
    "        else:\n",
    "            mydict[nums[index]]=-1\n",
    "        stack.append(nums[index])\n",
    "    return [mydict.get(num) for num in findNums]"
   ]
  },
  {
   "cell_type": "code",
   "execution_count": 89,
   "metadata": {},
   "outputs": [
    {
     "name": "stdout",
     "output_type": "stream",
     "text": [
      "[-1, 3, -1]\n",
      "[3, -1]\n"
     ]
    }
   ],
   "source": [
    "print(nextGreaterElement2([4,1,2],[1,3,4,2]))\n",
    "print(nextGreaterElement2([2,4],[1,2,3,4]))"
   ]
  },
  {
   "cell_type": "markdown",
   "metadata": {},
   "source": [
    "### 190. Reverse Bits"
   ]
  },
  {
   "cell_type": "code",
   "execution_count": 90,
   "metadata": {
    "collapsed": true
   },
   "outputs": [],
   "source": [
    "def reverseBits(n):\n",
    "    convString='01'\n",
    "    res=[]\n",
    "    while n!=0:\n",
    "        res.append(convString[n%2])\n",
    "        n=n//2\n",
    "    for i in range(len(res),32):\n",
    "        res.append(0)\n",
    "    count=0\n",
    "    num=0\n",
    "    for item in res[::-1]:\n",
    "        num+=int(item)*(2**count)\n",
    "        count+=1\n",
    "    return num"
   ]
  },
  {
   "cell_type": "code",
   "execution_count": 91,
   "metadata": {},
   "outputs": [
    {
     "name": "stdout",
     "output_type": "stream",
     "text": [
      "964176192\n"
     ]
    }
   ],
   "source": [
    "print(reverseBits(43261596))"
   ]
  },
  {
   "cell_type": "code",
   "execution_count": 92,
   "metadata": {},
   "outputs": [
    {
     "data": {
      "text/plain": [
       "'0b100'"
      ]
     },
     "execution_count": 92,
     "metadata": {},
     "output_type": "execute_result"
    }
   ],
   "source": [
    "bin(4)"
   ]
  },
  {
   "cell_type": "code",
   "execution_count": 93,
   "metadata": {
    "collapsed": true
   },
   "outputs": [],
   "source": [
    "def reverseBits2(n):\n",
    "    return int(bin(n)[2:][::-1].ljust(32,'0'),2)"
   ]
  },
  {
   "cell_type": "code",
   "execution_count": 94,
   "metadata": {},
   "outputs": [
    {
     "name": "stdout",
     "output_type": "stream",
     "text": [
      "964176192\n"
     ]
    }
   ],
   "source": [
    "print(reverseBits2(43261596))"
   ]
  },
  {
   "cell_type": "markdown",
   "metadata": {},
   "source": [
    "### 191. Number of 1 Bits"
   ]
  },
  {
   "cell_type": "code",
   "execution_count": 95,
   "metadata": {
    "collapsed": true
   },
   "outputs": [],
   "source": [
    "def hammingWeight(n):\n",
    "    res=[]\n",
    "    convString='01'\n",
    "    while n!=0:\n",
    "        res.append(convString[n%2])\n",
    "        n=n//2\n",
    "    return res.count('1')"
   ]
  },
  {
   "cell_type": "code",
   "execution_count": 97,
   "metadata": {},
   "outputs": [
    {
     "name": "stdout",
     "output_type": "stream",
     "text": [
      "3\n",
      "1\n"
     ]
    }
   ],
   "source": [
    "print(hammingWeight(11))\n",
    "print(hammingWeight(128))"
   ]
  },
  {
   "cell_type": "code",
   "execution_count": 101,
   "metadata": {
    "collapsed": true
   },
   "outputs": [],
   "source": [
    "def hammingWeight2(n):\n",
    "    return bin(n)[2:].count('1')"
   ]
  },
  {
   "cell_type": "code",
   "execution_count": 102,
   "metadata": {},
   "outputs": [
    {
     "name": "stdout",
     "output_type": "stream",
     "text": [
      "3\n",
      "1\n"
     ]
    }
   ],
   "source": [
    "print(hammingWeight2(11))\n",
    "print(hammingWeight2(128))"
   ]
  },
  {
   "cell_type": "markdown",
   "metadata": {},
   "source": [
    "### 461. Hamming Distance"
   ]
  },
  {
   "cell_type": "code",
   "execution_count": 105,
   "metadata": {
    "collapsed": true
   },
   "outputs": [],
   "source": [
    "def hammingDistance(x, y):\n",
    "    bin1=bin(x)[2:]\n",
    "    bin2=bin(y)[2:]\n",
    "    length=max(len(bin1),len(bin2))\n",
    "    bin1=bin1.rjust(length,'0')\n",
    "    bin2=bin2.rjust(length,'0')\n",
    "    count=0\n",
    "    for i in range(length):\n",
    "        if bin1[i]!=bin2[i]:\n",
    "            count+=1\n",
    "    return count"
   ]
  },
  {
   "cell_type": "code",
   "execution_count": 106,
   "metadata": {},
   "outputs": [
    {
     "name": "stdout",
     "output_type": "stream",
     "text": [
      "2\n"
     ]
    }
   ],
   "source": [
    "print(hammingDistance(1,4))"
   ]
  },
  {
   "cell_type": "markdown",
   "metadata": {},
   "source": [
    "### 693. Binary Number with Alternating Bits"
   ]
  },
  {
   "cell_type": "code",
   "execution_count": 107,
   "metadata": {
    "collapsed": true
   },
   "outputs": [],
   "source": [
    "def hasAlternatingBits(n):\n",
    "    bin1=bin(n)[2:]\n",
    "    for i in range(len(bin1)-1):\n",
    "        if bin1[i+1]==bin1[i]:\n",
    "            return False\n",
    "    return True"
   ]
  },
  {
   "cell_type": "code",
   "execution_count": 109,
   "metadata": {},
   "outputs": [
    {
     "name": "stdout",
     "output_type": "stream",
     "text": [
      "True\n",
      "False\n",
      "False\n",
      "True\n"
     ]
    }
   ],
   "source": [
    "print(hasAlternatingBits(5))\n",
    "print(hasAlternatingBits(7))\n",
    "print(hasAlternatingBits(11))\n",
    "print(hasAlternatingBits(10))"
   ]
  },
  {
   "cell_type": "markdown",
   "metadata": {},
   "source": [
    "### 762. Prime Number of Set Bits in Binary Representation"
   ]
  },
  {
   "cell_type": "code",
   "execution_count": 128,
   "metadata": {
    "collapsed": true
   },
   "outputs": [],
   "source": [
    "def isPrime(num):\n",
    "    if num==1:\n",
    "        return False\n",
    "    for i in range(2,num):\n",
    "        if num%i==0:\n",
    "            return False\n",
    "    return True"
   ]
  },
  {
   "cell_type": "code",
   "execution_count": 133,
   "metadata": {},
   "outputs": [],
   "source": [
    "def countPrimeSetBits(L, R):\n",
    "    mylist=[bin(x)[2:].count('1') for x in range(L,R+1)]\n",
    "    count=0\n",
    "    for item in mylist:\n",
    "        if isPrime(item):\n",
    "            count+=1\n",
    "    return count"
   ]
  },
  {
   "cell_type": "code",
   "execution_count": 137,
   "metadata": {},
   "outputs": [
    {
     "name": "stdout",
     "output_type": "stream",
     "text": [
      "4\n",
      "5\n",
      "23\n"
     ]
    }
   ],
   "source": [
    "print(countPrimeSetBits(6,10))\n",
    "print(countPrimeSetBits(10,15))\n",
    "print(countPrimeSetBits(842,888))"
   ]
  },
  {
   "cell_type": "code",
   "execution_count": null,
   "metadata": {
    "collapsed": true
   },
   "outputs": [],
   "source": []
  }
 ],
 "metadata": {
  "kernelspec": {
   "display_name": "Python 3",
   "language": "python",
   "name": "python3"
  },
  "language_info": {
   "codemirror_mode": {
    "name": "ipython",
    "version": 3
   },
   "file_extension": ".py",
   "mimetype": "text/x-python",
   "name": "python",
   "nbconvert_exporter": "python",
   "pygments_lexer": "ipython3",
   "version": "3.6.1"
  }
 },
 "nbformat": 4,
 "nbformat_minor": 2
}
