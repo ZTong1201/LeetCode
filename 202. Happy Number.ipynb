{
 "cells": [
  {
   "cell_type": "markdown",
   "metadata": {},
   "source": [
    "### 202. Happy Number\n",
    "Write an algorithm to determine if a number is \"happy\".\n",
    "<br>\n",
    "A happy number is a number defined by the following process: Starting with any positive integer, replace the number by the sum of the squares of its digits, and repeat the process until the number equals 1 (where it will stay), or it loops endlessly in a cycle which does not include 1. Those numbers for which this process ends in 1 are happy numbers.\n",
    "<br>\n",
    "e.g.\n",
    "<br>\n",
    "Input: 19\n",
    "<br>\n",
    "Output: true\n",
    "<br>\n",
    "Explanation: \n",
    "<br>\n",
    "$1^2 + 9^2 = 82$\n",
    "<br>\n",
    "$8^2 + 2^2 = 68$\n",
    "<br>\n",
    "$6^2 + 8^2 = 100$\n",
    "<br>\n",
    "$1^2 + 0^2 + 0^2 = 1$"
   ]
  },
  {
   "cell_type": "code",
   "execution_count": 35,
   "metadata": {},
   "outputs": [],
   "source": [
    "def isHappy(n):\n",
    "    numSet = set()\n",
    "    while n != 1:\n",
    "        \"\"\"\n",
    "        tmp = 0\n",
    "        for s in str(n):\n",
    "            tmp += int(s)**2\n",
    "        n = tmp\n",
    "        \"\"\"\n",
    "        n = sum(int(i)**2 for i in str(n))\n",
    "        if n in numSet:\n",
    "            return False\n",
    "        else:\n",
    "            numSet.add(n)\n",
    "    return True"
   ]
  },
  {
   "cell_type": "code",
   "execution_count": 38,
   "metadata": {},
   "outputs": [],
   "source": [
    "def main():\n",
    "    print(isHappy(100))\n",
    "    print(isHappy(19))\n",
    "    print(isHappy(139))\n",
    "    print(isHappy(112))"
   ]
  },
  {
   "cell_type": "code",
   "execution_count": 39,
   "metadata": {},
   "outputs": [
    {
     "name": "stdout",
     "output_type": "stream",
     "text": [
      "True\n",
      "True\n",
      "True\n",
      "False\n"
     ]
    }
   ],
   "source": [
    "if __name__ == \"__main__\":\n",
    "    main()"
   ]
  },
  {
   "cell_type": "code",
   "execution_count": null,
   "metadata": {},
   "outputs": [],
   "source": []
  }
 ],
 "metadata": {
  "kernelspec": {
   "display_name": "Python 3",
   "language": "python",
   "name": "python3"
  },
  "language_info": {
   "codemirror_mode": {
    "name": "ipython",
    "version": 3
   },
   "file_extension": ".py",
   "mimetype": "text/x-python",
   "name": "python",
   "nbconvert_exporter": "python",
   "pygments_lexer": "ipython3",
   "version": "3.6.7"
  },
  "latex_envs": {
   "LaTeX_envs_menu_present": true,
   "autoclose": false,
   "autocomplete": true,
   "bibliofile": "biblio.bib",
   "cite_by": "apalike",
   "current_citInitial": 1,
   "eqLabelWithNumbers": true,
   "eqNumInitial": 1,
   "hotkeys": {
    "equation": "Ctrl-E",
    "itemize": "Ctrl-I"
   },
   "labels_anchors": false,
   "latex_user_defs": false,
   "report_style_numbering": false,
   "user_envs_cfg": false
  }
 },
 "nbformat": 4,
 "nbformat_minor": 2
}
